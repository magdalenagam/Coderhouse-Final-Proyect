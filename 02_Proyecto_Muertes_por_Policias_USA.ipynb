{
  "cells": [
    {
      "cell_type": "markdown",
      "metadata": {
        "id": "1K_fkPq66Qjr"
      },
      "source": [
        "# Proyecto: Clasificación de muertes de civiles por policías en EUA (2015 - 2020)"
      ]
    },
    {
      "cell_type": "markdown",
      "source": [
        "## 1) Presentación de la empresa, organización o problema específico\n",
        "\n",
        "Debido a la creciente problemática mundial de muertes civiles en ocasión de encuentros con fuerzas policiales, hemos decidido analizar los datos relacionados a todos los civiles muertos por parte de la policía en Estados Unidos, para los años 2015 a 2020 ambos inclusive, con el relevamiento de distintas condiciones o variables relacionadas al evento (raza del civil, edad, género, si se encontraba armado, tipificación del encuentro con la policia, si el policia fue enjuiciado o no, ect.) y a la ciudad o estado donde ocurrió el hecho, para tratar de relacionar la incidencia de ciertas variables socioeconómicas de los estados. \n",
        "\n",
        "Específicamente, y a los efectos de resaltar una situación poco considerada relacionada a esta problemática social, los análisis se centrarán en la condición de si la victima poseía una enfermedad mental al momento del encuentro con la policía, a los efectos de que la información y conclusiones obtenidas sean de utilidad para entes gubernamentales o asociaciones sin fines de lucro, con el objetivo de desarrollar herramientas de contención para evitar que personas con problemas mentales terminen abatidas por la policia en encuentros evitables. "
      ],
      "metadata": {
        "id": "I0H3jJUyqFnr"
      }
    },
    {
      "cell_type": "markdown",
      "source": [
        "## 2) Preguntas y objetivos de la investigación\n",
        "Entre otras, se intentará analizar:\n",
        "- Estimar si una víctima civil tiene signos de una enfermedad mental al momento del incidente con la policía\n",
        "- ¿Cuál es la distribución por raza de las víctimas?\n",
        "- ¿Cuál es la incidencia de los factores socioeconómicos y políticos de los estados en la cantidad de víctimas por millon de habitantes?\n",
        "- ¿Cuáles son los estados con mayor cantidad de muertes por millón de habitantes?\n",
        "- ¿Cuáles son las circunstancias más comúnes del encuentro entre el civil y la policía?, ¿los civiles generalmente están armados?"
      ],
      "metadata": {
        "id": "P5sShtekXgwz"
      }
    },
    {
      "cell_type": "markdown",
      "source": [
        "## 3) Conformación del equipo de trabajo\n",
        "- Magdalena Gambuli\n",
        "- Jese David Salazar Garcia\n",
        "- Gonzalo Beloqui\n",
        "\n",
        "Tutora: Corina Garrido"
      ],
      "metadata": {
        "id": "uS1UR-otbC-7"
      }
    },
    {
      "cell_type": "markdown",
      "source": [
        "## 4) Indicación de la fuente del dataset y los criterios de selección (Data Acquisition)\n",
        "\n",
        "Fuentes de dataset:\n",
        "1. Datos de hechos y civiles: https://github.com/washingtonpost/data-police-shootings\n",
        "2. Datos socioeconómicos de los estados: https://data.ers.usda.gov/\n",
        "3. Datos de partido político y gobernador por Estado.\n",
        "Fuente: https://www.openicpsr.org/openicpsr/project/102000/version/V3/view\n",
        "\n",
        "# Criterios de Selección:\n",
        "Trascendencia de la problemática\n",
        "Oportunidad y completitud de los datos\n"
      ],
      "metadata": {
        "id": "GTK2c1Zvb-eN"
      }
    },
    {
      "cell_type": "markdown",
      "source": [
        "## 5) Generación del primer Data Wrangling y EDA, apuntado a sus datos (insights) univariado, bivariado y multivariado."
      ],
      "metadata": {
        "id": "PCWDpByTNBfc"
      }
    },
    {
      "cell_type": "markdown",
      "source": [
        "## Data Wrangling"
      ],
      "metadata": {
        "id": "ycS7imv6SS7h"
      }
    },
    {
      "cell_type": "code",
      "execution_count": null,
      "metadata": {
        "id": "8U98DFhNvJ_x"
      },
      "outputs": [],
      "source": [
        "# importación de librerías\n",
        "import pandas as pd\n",
        "import matplotlib.pyplot as plt\n",
        "import seaborn as sns\n",
        "import plotly.express as px\n",
        "import missingno as msno\n",
        "import scipy\n",
        "import numpy as np\n",
        "from matplotlib import cm\n",
        "from matplotlib import colors\n",
        "from openpyxl.workbook import Workbook\n",
        "import io\n",
        "\n",
        "# fuente de los gráficos\n",
        "font1 = {'family':'sans-serif','size':18}\n",
        "font2 = {'family':'sans-serif','size':15}"
      ]
    },
    {
      "cell_type": "code",
      "source": [
        "# importación Dataset_CIVILIANS\n",
        "url_file = \"https://raw.githubusercontent.com/gonezebel/DataScienceCoderhouse/main/01_DatasetCivilians.csv\"\n",
        "df_civilians = pd.read_csv(url_file, parse_dates=[\"Death_Date\"], dayfirst=True, index_col=\"Victim_ID\", encoding='utf-8')\n",
        "df_civilians.info()"
      ],
      "metadata": {
        "colab": {
          "base_uri": "https://localhost:8080/"
        },
        "id": "X-y2I1dcMNSC",
        "outputId": "8b19d1e5-4dde-419f-d7d0-b7cd5ce611c0"
      },
      "execution_count": null,
      "outputs": [
        {
          "output_type": "stream",
          "name": "stdout",
          "text": [
            "<class 'pandas.core.frame.DataFrame'>\n",
            "Int64Index: 5793 entries, 2 to 5792\n",
            "Data columns (total 19 columns):\n",
            " #   Column                   Non-Null Count  Dtype         \n",
            "---  ------                   --------------  -----         \n",
            " 0   Civil_Name               5793 non-null   object        \n",
            " 1   Death_Date               5793 non-null   datetime64[ns]\n",
            " 2   Manner_of_death          5793 non-null   object        \n",
            " 3   Armed                    5793 non-null   object        \n",
            " 4   Age                      5793 non-null   int64         \n",
            " 5   Gender                   5793 non-null   object        \n",
            " 6   Race                     5793 non-null   object        \n",
            " 7   City                     5793 non-null   object        \n",
            " 8   State_ID                 5793 non-null   int64         \n",
            " 9   Signs_of_mental_illness  5793 non-null   bool          \n",
            " 10  Flee                     5793 non-null   object        \n",
            " 11  body_camera              5793 non-null   bool          \n",
            " 12  longitude                5519 non-null   float64       \n",
            " 13  latitude                 5519 non-null   float64       \n",
            " 14  is_geocoding_exact       5793 non-null   bool          \n",
            " 15  Official_Disposition     5793 non-null   object        \n",
            " 16  Encounter_Type           5793 non-null   object        \n",
            " 17  Year                     5793 non-null   int64         \n",
            " 18  state_initial            5793 non-null   object        \n",
            "dtypes: bool(3), datetime64[ns](1), float64(2), int64(3), object(10)\n",
            "memory usage: 786.4+ KB\n"
          ]
        }
      ]
    },
    {
      "cell_type": "code",
      "source": [
        "# importación Dataset_States\n",
        "url_file = \"https://raw.githubusercontent.com/gonezebel/DataScienceCoderhouse/main/Dataset_states_unique.csv\"\n",
        "df_states = pd.read_csv(url_file, dayfirst=True, encoding='utf-8',sep=';')\n",
        "df_states.info()"
      ],
      "metadata": {
        "colab": {
          "base_uri": "https://localhost:8080/"
        },
        "id": "eEmMRJNQmU6G",
        "outputId": "3323c997-537d-4d22-cea7-035093736515"
      },
      "execution_count": null,
      "outputs": [
        {
          "output_type": "stream",
          "name": "stdout",
          "text": [
            "<class 'pandas.core.frame.DataFrame'>\n",
            "RangeIndex: 299 entries, 0 to 298\n",
            "Data columns (total 10 columns):\n",
            " #   Column                    Non-Null Count  Dtype  \n",
            "---  ------                    --------------  -----  \n",
            " 0   Year                      299 non-null    int64  \n",
            " 1   GDP_Millions              299 non-null    int64  \n",
            " 2   GDP_PerCapita             299 non-null    int64  \n",
            " 3   Unemployment_Rate         299 non-null    float64\n",
            " 4   Poverty_Percent           299 non-null    float64\n",
            " 5   Median_household_ Income  299 non-null    int64  \n",
            " 6   Governor_Name             299 non-null    object \n",
            " 7   Party                     299 non-null    object \n",
            " 8   State_Name                299 non-null    object \n",
            " 9   state_initial             299 non-null    object \n",
            "dtypes: float64(2), int64(4), object(4)\n",
            "memory usage: 23.5+ KB\n"
          ]
        }
      ]
    },
    {
      "cell_type": "code",
      "source": [
        "#Merge dataframes a través de campos \"year\" y \"state_initial\"\n",
        "df = pd.merge(df_civilians,df_states, on =['state_initial','Year'],how='left')\n",
        "df.info()"
      ],
      "metadata": {
        "id": "k1apyKlkns_7",
        "colab": {
          "base_uri": "https://localhost:8080/"
        },
        "outputId": "db05a353-e8db-47e9-ea03-992d3b732bbf"
      },
      "execution_count": null,
      "outputs": [
        {
          "output_type": "stream",
          "name": "stdout",
          "text": [
            "<class 'pandas.core.frame.DataFrame'>\n",
            "Int64Index: 5793 entries, 0 to 5792\n",
            "Data columns (total 27 columns):\n",
            " #   Column                    Non-Null Count  Dtype         \n",
            "---  ------                    --------------  -----         \n",
            " 0   Civil_Name                5793 non-null   object        \n",
            " 1   Death_Date                5793 non-null   datetime64[ns]\n",
            " 2   Manner_of_death           5793 non-null   object        \n",
            " 3   Armed                     5793 non-null   object        \n",
            " 4   Age                       5793 non-null   int64         \n",
            " 5   Gender                    5793 non-null   object        \n",
            " 6   Race                      5793 non-null   object        \n",
            " 7   City                      5793 non-null   object        \n",
            " 8   State_ID                  5793 non-null   int64         \n",
            " 9   Signs_of_mental_illness   5793 non-null   bool          \n",
            " 10  Flee                      5793 non-null   object        \n",
            " 11  body_camera               5793 non-null   bool          \n",
            " 12  longitude                 5519 non-null   float64       \n",
            " 13  latitude                  5519 non-null   float64       \n",
            " 14  is_geocoding_exact        5793 non-null   bool          \n",
            " 15  Official_Disposition      5793 non-null   object        \n",
            " 16  Encounter_Type            5793 non-null   object        \n",
            " 17  Year                      5793 non-null   int64         \n",
            " 18  state_initial             5793 non-null   object        \n",
            " 19  GDP_Millions              5793 non-null   int64         \n",
            " 20  GDP_PerCapita             5793 non-null   int64         \n",
            " 21  Unemployment_Rate         5793 non-null   float64       \n",
            " 22  Poverty_Percent           5793 non-null   float64       \n",
            " 23  Median_household_ Income  5793 non-null   int64         \n",
            " 24  Governor_Name             5793 non-null   object        \n",
            " 25  Party                     5793 non-null   object        \n",
            " 26  State_Name                5793 non-null   object        \n",
            "dtypes: bool(3), datetime64[ns](1), float64(4), int64(6), object(13)\n",
            "memory usage: 1.1+ MB\n"
          ]
        }
      ]
    },
    {
      "cell_type": "code",
      "source": [
        "\n",
        "def autopct_fun(abs_values):\n",
        "    gen = iter(abs_values)\n",
        "    return lambda pct: f\"{pct:.1f}% ({next(gen)})\"\n",
        "\n",
        "counts = df.dtypes.value_counts()\n",
        "\n",
        "counts.plot(kind='pie',\n",
        "            fontsize=15,\n",
        "            figsize=(7, 7),\n",
        "            autopct=autopct_fun(counts),\n",
        "            legend = False,\n",
        "            colors=['#BDBDBD','#D1D1D1','#9C9C9C','#7F7F7F','#6B6B6B']\n",
        "            )\n",
        "plt.title('Proporción tipo de variables',fontdict=font1)\n",
        "plt.show()"
      ],
      "metadata": {
        "colab": {
          "base_uri": "https://localhost:8080/",
          "height": 432
        },
        "id": "te2ARKlTgmiW",
        "outputId": "ae4c3de0-94b5-43ff-fc25-6c077ec70ba9"
      },
      "execution_count": null,
      "outputs": [
        {
          "output_type": "display_data",
          "data": {
            "text/plain": [
              "<Figure size 504x504 with 1 Axes>"
            ],
            "image/png": "[encoded data removed]"
          },
          "metadata": {}
        }
      ]
    },
    {
      "cell_type": "code",
      "source": [
        "# visualización de null\n",
        "%matplotlib inline\n",
        "msno.matrix(df)"
      ],
      "metadata": {
        "colab": {
          "base_uri": "https://localhost:8080/",
          "height": 778
        },
        "id": "hNYFPCwHfXpT",
        "outputId": "c42eb499-7aff-4f4d-b329-7e27d38c740e"
      },
      "execution_count": null,
      "outputs": [
        {
          "output_type": "execute_result",
          "data": {
            "text/plain": [
              "<matplotlib.axes._subplots.AxesSubplot at 0x7f7de6509450>"
            ]
          },
          "metadata": {},
          "execution_count": 18
        },
        {
          "output_type": "display_data",
          "data": {
            "text/plain": [
              "<Figure size 1800x720 with 2 Axes>"
            ],
            "image/png": "[encoded data removed]"
          },
          "metadata": {
            "needs_background": "light"
          }
        }
      ]
    },
    {
      "cell_type": "markdown",
      "source": [
        "En cuanto a los datos null es un dataset con poca información faltante como puede observarse en el gráfico superior. Tan sólo 2 columnas presentan datos faltantes."
      ],
      "metadata": {
        "id": "o2_fRK-kkmA9"
      }
    },
    {
      "cell_type": "code",
      "source": [
        "## verificación de campos y cantidad de nulls\n",
        "df.isnull().sum()"
      ],
      "metadata": {
        "colab": {
          "base_uri": "https://localhost:8080/"
        },
        "id": "sWpoAPTujPLz",
        "outputId": "bfc04188-e7d5-4d9d-c11a-b312812fad59"
      },
      "execution_count": null,
      "outputs": [
        {
          "output_type": "execute_result",
          "data": {
            "text/plain": [
              "Civil_Name                    0\n",
              "Death_Date                    0\n",
              "Manner_of_death               0\n",
              "Armed                         0\n",
              "Age                           0\n",
              "Gender                        0\n",
              "Race                          0\n",
              "City                          0\n",
              "State_ID                      0\n",
              "Signs_of_mental_illness       0\n",
              "Flee                          0\n",
              "body_camera                   0\n",
              "longitude                   274\n",
              "latitude                    274\n",
              "is_geocoding_exact            0\n",
              "Official_Disposition          0\n",
              "Encounter_Type                0\n",
              "Year                          0\n",
              "state_initial                 0\n",
              "GDP_Millions                  0\n",
              "GDP_PerCapita                 0\n",
              "Unemployment_Rate             0\n",
              "Poverty_Percent               0\n",
              "Median_household_ Income      0\n",
              "Governor_Name                 0\n",
              "Party                         0\n",
              "State_Name                    0\n",
              "dtype: int64"
            ]
          },
          "metadata": {},
          "execution_count": 7
        }
      ]
    },
    {
      "cell_type": "markdown",
      "source": [
        "El 4.7% de las filas del dataset presentan valores faltantes. Emplearemos el método de imputación tomando la mediana de cada estado, esto con el fin de no distorsionar los datos."
      ],
      "metadata": {
        "id": "rRj6pLsIMItv"
      }
    },
    {
      "cell_type": "code",
      "source": [
        "# corrección de nulls en columnas de longitud y latitud, considerando el promedio de cada campo para el resto entradas de dato agrupadas por estado.\n",
        "df['longitude']=df.groupby('state_initial')['longitude'].apply(lambda x:x.fillna(x.mean()))\n",
        "df['latitude']=df.groupby('state_initial')['latitude'].apply(lambda x:x.fillna(x.mean()))\n",
        "df.isnull().sum()"
      ],
      "metadata": {
        "colab": {
          "base_uri": "https://localhost:8080/"
        },
        "id": "lGJj23NzjVWz",
        "outputId": "236d093c-834d-4bd0-e77c-a7bc7ffabef9"
      },
      "execution_count": null,
      "outputs": [
        {
          "output_type": "execute_result",
          "data": {
            "text/plain": [
              "Civil_Name                  0\n",
              "Death_Date                  0\n",
              "Manner_of_death             0\n",
              "Armed                       0\n",
              "Age                         0\n",
              "Gender                      0\n",
              "Race                        0\n",
              "City                        0\n",
              "State_ID                    0\n",
              "Signs_of_mental_illness     0\n",
              "Flee                        0\n",
              "body_camera                 0\n",
              "longitude                   0\n",
              "latitude                    0\n",
              "is_geocoding_exact          0\n",
              "Official_Disposition        0\n",
              "Encounter_Type              0\n",
              "Year                        0\n",
              "state_initial               0\n",
              "GDP_Millions                0\n",
              "GDP_PerCapita               0\n",
              "Unemployment_Rate           0\n",
              "Poverty_Percent             0\n",
              "Median_household_ Income    0\n",
              "Governor_Name               0\n",
              "Party                       0\n",
              "State_Name                  0\n",
              "dtype: int64"
            ]
          },
          "metadata": {},
          "execution_count": 8
        }
      ]
    },
    {
      "cell_type": "code",
      "execution_count": null,
      "metadata": {
        "colab": {
          "base_uri": "https://localhost:8080/"
        },
        "id": "G0oKrNfXxTqe",
        "outputId": "f8abce44-7eeb-4476-c911-8186962ae9db"
      },
      "outputs": [
        {
          "output_type": "stream",
          "name": "stdout",
          "text": [
            "<class 'pandas.core.frame.DataFrame'>\n",
            "Int64Index: 5793 entries, 0 to 5792\n",
            "Data columns (total 27 columns):\n",
            " #   Column                    Non-Null Count  Dtype         \n",
            "---  ------                    --------------  -----         \n",
            " 0   Civil_Name                5793 non-null   object        \n",
            " 1   Death_Date                5793 non-null   datetime64[ns]\n",
            " 2   Manner_of_death           5793 non-null   object        \n",
            " 3   Armed                     5793 non-null   object        \n",
            " 4   Age                       5793 non-null   int64         \n",
            " 5   Gender                    5793 non-null   object        \n",
            " 6   Race                      5793 non-null   object        \n",
            " 7   City                      5793 non-null   object        \n",
            " 8   State_ID                  5793 non-null   int64         \n",
            " 9   Signs_of_mental_illness   5793 non-null   bool          \n",
            " 10  Flee                      5793 non-null   object        \n",
            " 11  body_camera               5793 non-null   bool          \n",
            " 12  longitude                 5793 non-null   float64       \n",
            " 13  latitude                  5793 non-null   float64       \n",
            " 14  is_geocoding_exact        5793 non-null   bool          \n",
            " 15  Official_Disposition      5793 non-null   object        \n",
            " 16  Encounter_Type            5793 non-null   object        \n",
            " 17  Year                      5793 non-null   int64         \n",
            " 18  state_initial             5793 non-null   object        \n",
            " 19  GDP_Millions              5793 non-null   int64         \n",
            " 20  GDP_PerCapita             5793 non-null   int64         \n",
            " 21  Unemployment_Rate         5793 non-null   float64       \n",
            " 22  Poverty_Percent           5793 non-null   float64       \n",
            " 23  Median_household_ Income  5793 non-null   int64         \n",
            " 24  Governor_Name             5793 non-null   object        \n",
            " 25  Party                     5793 non-null   object        \n",
            " 26  State_Name                5793 non-null   object        \n",
            "dtypes: bool(3), datetime64[ns](1), float64(4), int64(6), object(13)\n",
            "memory usage: 1.1+ MB\n"
          ]
        }
      ],
      "source": [
        "# Información general del dataset\n",
        "df.info()"
      ]
    },
    {
      "cell_type": "code",
      "execution_count": null,
      "metadata": {
        "colab": {
          "base_uri": "https://localhost:8080/",
          "height": 236
        },
        "id": "heCpzVXE0B7J",
        "outputId": "851c5baa-25e1-44f5-9c51-b0a018d77dbb"
      },
      "outputs": [
        {
          "output_type": "execute_result",
          "data": {
            "text/plain": [
              "                  Civil_Name Death_Date Manner_of_death    Armed  Age Gender  \\\n",
              "5786               Dolal Idd 2020-12-30            shot      Gun   23      M   \n",
              "5787      David Jacob Rigsby 2020-12-30            shot      Gun   39      M   \n",
              "5790        Peter K. England 2020-12-30            shot      Gun   21      M   \n",
              "5791          Jeffrey Marvin 2020-12-31            shot  Vehicle   63      M   \n",
              "5792  David Randall Shepherd 2020-12-31            shot      Gun   39      M   \n",
              "\n",
              "     Race           City  State_ID  Signs_of_mental_illness  ...  Year  \\\n",
              "5786    B    Minneapolis        24                    False  ...  2020   \n",
              "5787    W        Waverly        43                    False  ...  2020   \n",
              "5790    A          Ammon        13                    False  ...  2020   \n",
              "5791    B  Starke County        15                    False  ...  2020   \n",
              "5792    W       Beaumont        44                     True  ...  2020   \n",
              "\n",
              "      state_initial  GDP_Millions  GDP_PerCapita  Unemployment_Rate  \\\n",
              "5786             MN        373739          68185              0.062   \n",
              "5787             TN        369574          55532              0.075   \n",
              "5790             ID         83822          48033              0.054   \n",
              "5791             IN        375337          56729              0.071   \n",
              "5792             TX       1775588          62712              0.076   \n",
              "\n",
              "     Poverty_Percent Median_household_ Income  Governor_Name       Party  \\\n",
              "5786           0.084                    78461       Tim Walz    Democrat   \n",
              "5787           0.132                    54665       Bill Lee  Republican   \n",
              "5790           0.092                    66499    Brad Little  Republican   \n",
              "5791           0.120                    66360  Eric Holocomb  Republican   \n",
              "5792           0.140                    68093     Greg Abbot  Republican   \n",
              "\n",
              "      State_Name  \n",
              "5786   Minnesota  \n",
              "5787   Tennessee  \n",
              "5790       Idaho  \n",
              "5791     Indiana  \n",
              "5792       Texas  \n",
              "\n",
              "[5 rows x 27 columns]"
            ],
            "text/html": [
              "\n",
              "  <div id=\"df-269f042f-5845-4d2f-bdb6-7584fb133150\">\n",
              "    <div class=\"colab-df-container\">\n",
              "      <div>\n",
              "<style scoped>\n",
              "    .dataframe tbody tr th:only-of-type {\n",
              "        vertical-align: middle;\n",
              "    }\n",
              "\n",
              "    .dataframe tbody tr th {\n",
              "        vertical-align: top;\n",
              "    }\n",
              "\n",
              "    .dataframe thead th {\n",
              "        text-align: right;\n",
              "    }\n",
              "</style>\n",
              "<table border=\"1\" class=\"dataframe\">\n",
              "  <thead>\n",
              "    <tr style=\"text-align: right;\">\n",
              "      <th></th>\n",
              "      <th>Civil_Name</th>\n",
              "      <th>Death_Date</th>\n",
              "      <th>Manner_of_death</th>\n",
              "      <th>Armed</th>\n",
              "      <th>Age</th>\n",
              "      <th>Gender</th>\n",
              "      <th>Race</th>\n",
              "      <th>City</th>\n",
              "      <th>State_ID</th>\n",
              "      <th>Signs_of_mental_illness</th>\n",
              "      <th>...</th>\n",
              "      <th>Year</th>\n",
              "      <th>state_initial</th>\n",
              "      <th>GDP_Millions</th>\n",
              "      <th>GDP_PerCapita</th>\n",
              "      <th>Unemployment_Rate</th>\n",
              "      <th>Poverty_Percent</th>\n",
              "      <th>Median_household_ Income</th>\n",
              "      <th>Governor_Name</th>\n",
              "      <th>Party</th>\n",
              "      <th>State_Name</th>\n",
              "    </tr>\n",
              "  </thead>\n",
              "  <tbody>\n",
              "    <tr>\n",
              "      <th>5786</th>\n",
              "      <td>Dolal Idd</td>\n",
              "      <td>2020-12-30</td>\n",
              "      <td>shot</td>\n",
              "      <td>Gun</td>\n",
              "      <td>23</td>\n",
              "      <td>M</td>\n",
              "      <td>B</td>\n",
              "      <td>Minneapolis</td>\n",
              "      <td>24</td>\n",
              "      <td>False</td>\n",
              "      <td>...</td>\n",
              "      <td>2020</td>\n",
              "      <td>MN</td>\n",
              "      <td>373739</td>\n",
              "      <td>68185</td>\n",
              "      <td>0.062</td>\n",
              "      <td>0.084</td>\n",
              "      <td>78461</td>\n",
              "      <td>Tim Walz</td>\n",
              "      <td>Democrat</td>\n",
              "      <td>Minnesota</td>\n",
              "    </tr>\n",
              "    <tr>\n",
              "      <th>5787</th>\n",
              "      <td>David Jacob Rigsby</td>\n",
              "      <td>2020-12-30</td>\n",
              "      <td>shot</td>\n",
              "      <td>Gun</td>\n",
              "      <td>39</td>\n",
              "      <td>M</td>\n",
              "      <td>W</td>\n",
              "      <td>Waverly</td>\n",
              "      <td>43</td>\n",
              "      <td>False</td>\n",
              "      <td>...</td>\n",
              "      <td>2020</td>\n",
              "      <td>TN</td>\n",
              "      <td>369574</td>\n",
              "      <td>55532</td>\n",
              "      <td>0.075</td>\n",
              "      <td>0.132</td>\n",
              "      <td>54665</td>\n",
              "      <td>Bill Lee</td>\n",
              "      <td>Republican</td>\n",
              "      <td>Tennessee</td>\n",
              "    </tr>\n",
              "    <tr>\n",
              "      <th>5790</th>\n",
              "      <td>Peter K. England</td>\n",
              "      <td>2020-12-30</td>\n",
              "      <td>shot</td>\n",
              "      <td>Gun</td>\n",
              "      <td>21</td>\n",
              "      <td>M</td>\n",
              "      <td>A</td>\n",
              "      <td>Ammon</td>\n",
              "      <td>13</td>\n",
              "      <td>False</td>\n",
              "      <td>...</td>\n",
              "      <td>2020</td>\n",
              "      <td>ID</td>\n",
              "      <td>83822</td>\n",
              "      <td>48033</td>\n",
              "      <td>0.054</td>\n",
              "      <td>0.092</td>\n",
              "      <td>66499</td>\n",
              "      <td>Brad Little</td>\n",
              "      <td>Republican</td>\n",
              "      <td>Idaho</td>\n",
              "    </tr>\n",
              "    <tr>\n",
              "      <th>5791</th>\n",
              "      <td>Jeffrey Marvin</td>\n",
              "      <td>2020-12-31</td>\n",
              "      <td>shot</td>\n",
              "      <td>Vehicle</td>\n",
              "      <td>63</td>\n",
              "      <td>M</td>\n",
              "      <td>B</td>\n",
              "      <td>Starke County</td>\n",
              "      <td>15</td>\n",
              "      <td>False</td>\n",
              "      <td>...</td>\n",
              "      <td>2020</td>\n",
              "      <td>IN</td>\n",
              "      <td>375337</td>\n",
              "      <td>56729</td>\n",
              "      <td>0.071</td>\n",
              "      <td>0.120</td>\n",
              "      <td>66360</td>\n",
              "      <td>Eric Holocomb</td>\n",
              "      <td>Republican</td>\n",
              "      <td>Indiana</td>\n",
              "    </tr>\n",
              "    <tr>\n",
              "      <th>5792</th>\n",
              "      <td>David Randall Shepherd</td>\n",
              "      <td>2020-12-31</td>\n",
              "      <td>shot</td>\n",
              "      <td>Gun</td>\n",
              "      <td>39</td>\n",
              "      <td>M</td>\n",
              "      <td>W</td>\n",
              "      <td>Beaumont</td>\n",
              "      <td>44</td>\n",
              "      <td>True</td>\n",
              "      <td>...</td>\n",
              "      <td>2020</td>\n",
              "      <td>TX</td>\n",
              "      <td>1775588</td>\n",
              "      <td>62712</td>\n",
              "      <td>0.076</td>\n",
              "      <td>0.140</td>\n",
              "      <td>68093</td>\n",
              "      <td>Greg Abbot</td>\n",
              "      <td>Republican</td>\n",
              "      <td>Texas</td>\n",
              "    </tr>\n",
              "  </tbody>\n",
              "</table>\n",
              "<p>5 rows × 27 columns</p>\n",
              "</div>\n",
              "      <button class=\"colab-df-convert\" onclick=\"convertToInteractive('df-269f042f-5845-4d2f-bdb6-7584fb133150')\"\n",
              "              title=\"Convert this dataframe to an interactive table.\"\n",
              "              style=\"display:none;\">\n",
              "        \n",
              "  <svg xmlns=\"http://www.w3.org/2000/svg\" height=\"24px\"viewBox=\"0 0 24 24\"\n",
              "       width=\"24px\">\n",
              "    <path d=\"M0 0h24v24H0V0z\" fill=\"none\"/>\n",
              "    <path d=\"M18.56 5.44l.94 2.06.94-2.06 2.06-.94-2.06-.94-.94-2.06-.94 2.06-2.06.94zm-11 1L8.5 8.5l.94-2.06 2.06-.94-2.06-.94L8.5 2.5l-.94 2.06-2.06.94zm10 10l.94 2.06.94-2.06 2.06-.94-2.06-.94-.94-2.06-.94 2.06-2.06.94z\"/><path d=\"M17.41 7.96l-1.37-1.37c-.4-.4-.92-.59-1.43-.59-.52 0-1.04.2-1.43.59L10.3 9.45l-7.72 7.72c-.78.78-.78 2.05 0 2.83L4 21.41c.39.39.9.59 1.41.59.51 0 1.02-.2 1.41-.59l7.78-7.78 2.81-2.81c.8-.78.8-2.07 0-2.86zM5.41 20L4 18.59l7.72-7.72 1.47 1.35L5.41 20z\"/>\n",
              "  </svg>\n",
              "      </button>\n",
              "      \n",
              "  <style>\n",
              "    .colab-df-container {\n",
              "      display:flex;\n",
              "      flex-wrap:wrap;\n",
              "      gap: 12px;\n",
              "    }\n",
              "\n",
              "    .colab-df-convert {\n",
              "      background-color: #E8F0FE;\n",
              "      border: none;\n",
              "      border-radius: 50%;\n",
              "      cursor: pointer;\n",
              "      display: none;\n",
              "      fill: #1967D2;\n",
              "      height: 32px;\n",
              "      padding: 0 0 0 0;\n",
              "      width: 32px;\n",
              "    }\n",
              "\n",
              "    .colab-df-convert:hover {\n",
              "      background-color: #E2EBFA;\n",
              "      box-shadow: 0px 1px 2px rgba(60, 64, 67, 0.3), 0px 1px 3px 1px rgba(60, 64, 67, 0.15);\n",
              "      fill: #174EA6;\n",
              "    }\n",
              "\n",
              "    [theme=dark] .colab-df-convert {\n",
              "      background-color: #3B4455;\n",
              "      fill: #D2E3FC;\n",
              "    }\n",
              "\n",
              "    [theme=dark] .colab-df-convert:hover {\n",
              "      background-color: #434B5C;\n",
              "      box-shadow: 0px 1px 3px 1px rgba(0, 0, 0, 0.15);\n",
              "      filter: drop-shadow(0px 1px 2px rgba(0, 0, 0, 0.3));\n",
              "      fill: #FFFFFF;\n",
              "    }\n",
              "  </style>\n",
              "\n",
              "      <script>\n",
              "        const buttonEl =\n",
              "          document.querySelector('#df-269f042f-5845-4d2f-bdb6-7584fb133150 button.colab-df-convert');\n",
              "        buttonEl.style.display =\n",
              "          google.colab.kernel.accessAllowed ? 'block' : 'none';\n",
              "\n",
              "        async function convertToInteractive(key) {\n",
              "          const element = document.querySelector('#df-269f042f-5845-4d2f-bdb6-7584fb133150');\n",
              "          const dataTable =\n",
              "            await google.colab.kernel.invokeFunction('convertToInteractive',\n",
              "                                                     [key], {});\n",
              "          if (!dataTable) return;\n",
              "\n",
              "          const docLinkHtml = 'Like what you see? Visit the ' +\n",
              "            '<a target=\"_blank\" href=https://colab.research.google.com/notebooks/data_table.ipynb>data table notebook</a>'\n",
              "            + ' to learn more about interactive tables.';\n",
              "          element.innerHTML = '';\n",
              "          dataTable['output_type'] = 'display_data';\n",
              "          await google.colab.output.renderOutput(dataTable, element);\n",
              "          const docLink = document.createElement('div');\n",
              "          docLink.innerHTML = docLinkHtml;\n",
              "          element.appendChild(docLink);\n",
              "        }\n",
              "      </script>\n",
              "    </div>\n",
              "  </div>\n",
              "  "
            ]
          },
          "metadata": {},
          "execution_count": 10
        }
      ],
      "source": [
        "df.sort_values(['Death_Date']).tail()"
      ]
    },
    {
      "cell_type": "code",
      "execution_count": null,
      "metadata": {
        "colab": {
          "base_uri": "https://localhost:8080/",
          "height": 363
        },
        "id": "7xoGRv4Rg2vn",
        "outputId": "6c87e6f3-7d64-4928-d79d-47157b58aadb"
      },
      "outputs": [
        {
          "output_type": "execute_result",
          "data": {
            "text/plain": [
              "                           count           mean            std         min  \\\n",
              "Age                       5793.0      37.151735      13.027632       6.000   \n",
              "State_ID                  5793.0      23.220956      16.016562       1.000   \n",
              "longitude                 5793.0  -97092.499267   16698.689607 -158137.000   \n",
              "latitude                  5793.0   36745.258372    5429.512188   19498.000   \n",
              "Year                      5793.0    2017.501813       1.721865    2015.000   \n",
              "GDP_Millions              5793.0  888231.360780  901917.626641   30988.000   \n",
              "GDP_PerCapita             5793.0   53233.106163   12926.038825   31522.000   \n",
              "Unemployment_Rate         5793.0       0.050648       0.017067       0.022   \n",
              "Poverty_Percent           5793.0       0.128232       0.028668       0.037   \n",
              "Median_household_ Income  5793.0   61999.227861   10206.590186   41754.000   \n",
              "\n",
              "                                 25%         50%          75%          max  \n",
              "Age                           27.000      35.000       46.000       91.000  \n",
              "State_ID                       6.000      21.000       38.000       51.000  \n",
              "longitude                -112043.000  -93821.000   -83031.000   -68014.000  \n",
              "latitude                   33487.000   36122.000    40031.000    71301.000  \n",
              "Year                        2016.000    2017.000     2019.000     2020.000  \n",
              "GDP_Millions              241704.000  508241.000  1116435.000  3052645.000  \n",
              "GDP_PerCapita              43866.000   52217.000    58452.000   202455.000  \n",
              "Unemployment_Rate              0.039       0.048        0.059        0.128  \n",
              "Poverty_Percent                0.108       0.130        0.148        0.220  \n",
              "Median_household_ Income   54181.000   60097.000    69600.000    94384.000  "
            ],
            "text/html": [
              "\n",
              "  <div id=\"df-c48ac395-b789-4d97-b8e9-49f1f891af94\">\n",
              "    <div class=\"colab-df-container\">\n",
              "      <div>\n",
              "<style scoped>\n",
              "    .dataframe tbody tr th:only-of-type {\n",
              "        vertical-align: middle;\n",
              "    }\n",
              "\n",
              "    .dataframe tbody tr th {\n",
              "        vertical-align: top;\n",
              "    }\n",
              "\n",
              "    .dataframe thead th {\n",
              "        text-align: right;\n",
              "    }\n",
              "</style>\n",
              "<table border=\"1\" class=\"dataframe\">\n",
              "  <thead>\n",
              "    <tr style=\"text-align: right;\">\n",
              "      <th></th>\n",
              "      <th>count</th>\n",
              "      <th>mean</th>\n",
              "      <th>std</th>\n",
              "      <th>min</th>\n",
              "      <th>25%</th>\n",
              "      <th>50%</th>\n",
              "      <th>75%</th>\n",
              "      <th>max</th>\n",
              "    </tr>\n",
              "  </thead>\n",
              "  <tbody>\n",
              "    <tr>\n",
              "      <th>Age</th>\n",
              "      <td>5793.0</td>\n",
              "      <td>37.151735</td>\n",
              "      <td>13.027632</td>\n",
              "      <td>6.000</td>\n",
              "      <td>27.000</td>\n",
              "      <td>35.000</td>\n",
              "      <td>46.000</td>\n",
              "      <td>91.000</td>\n",
              "    </tr>\n",
              "    <tr>\n",
              "      <th>State_ID</th>\n",
              "      <td>5793.0</td>\n",
              "      <td>23.220956</td>\n",
              "      <td>16.016562</td>\n",
              "      <td>1.000</td>\n",
              "      <td>6.000</td>\n",
              "      <td>21.000</td>\n",
              "      <td>38.000</td>\n",
              "      <td>51.000</td>\n",
              "    </tr>\n",
              "    <tr>\n",
              "      <th>longitude</th>\n",
              "      <td>5793.0</td>\n",
              "      <td>-97092.499267</td>\n",
              "      <td>16698.689607</td>\n",
              "      <td>-158137.000</td>\n",
              "      <td>-112043.000</td>\n",
              "      <td>-93821.000</td>\n",
              "      <td>-83031.000</td>\n",
              "      <td>-68014.000</td>\n",
              "    </tr>\n",
              "    <tr>\n",
              "      <th>latitude</th>\n",
              "      <td>5793.0</td>\n",
              "      <td>36745.258372</td>\n",
              "      <td>5429.512188</td>\n",
              "      <td>19498.000</td>\n",
              "      <td>33487.000</td>\n",
              "      <td>36122.000</td>\n",
              "      <td>40031.000</td>\n",
              "      <td>71301.000</td>\n",
              "    </tr>\n",
              "    <tr>\n",
              "      <th>Year</th>\n",
              "      <td>5793.0</td>\n",
              "      <td>2017.501813</td>\n",
              "      <td>1.721865</td>\n",
              "      <td>2015.000</td>\n",
              "      <td>2016.000</td>\n",
              "      <td>2017.000</td>\n",
              "      <td>2019.000</td>\n",
              "      <td>2020.000</td>\n",
              "    </tr>\n",
              "    <tr>\n",
              "      <th>GDP_Millions</th>\n",
              "      <td>5793.0</td>\n",
              "      <td>888231.360780</td>\n",
              "      <td>901917.626641</td>\n",
              "      <td>30988.000</td>\n",
              "      <td>241704.000</td>\n",
              "      <td>508241.000</td>\n",
              "      <td>1116435.000</td>\n",
              "      <td>3052645.000</td>\n",
              "    </tr>\n",
              "    <tr>\n",
              "      <th>GDP_PerCapita</th>\n",
              "      <td>5793.0</td>\n",
              "      <td>53233.106163</td>\n",
              "      <td>12926.038825</td>\n",
              "      <td>31522.000</td>\n",
              "      <td>43866.000</td>\n",
              "      <td>52217.000</td>\n",
              "      <td>58452.000</td>\n",
              "      <td>202455.000</td>\n",
              "    </tr>\n",
              "    <tr>\n",
              "      <th>Unemployment_Rate</th>\n",
              "      <td>5793.0</td>\n",
              "      <td>0.050648</td>\n",
              "      <td>0.017067</td>\n",
              "      <td>0.022</td>\n",
              "      <td>0.039</td>\n",
              "      <td>0.048</td>\n",
              "      <td>0.059</td>\n",
              "      <td>0.128</td>\n",
              "    </tr>\n",
              "    <tr>\n",
              "      <th>Poverty_Percent</th>\n",
              "      <td>5793.0</td>\n",
              "      <td>0.128232</td>\n",
              "      <td>0.028668</td>\n",
              "      <td>0.037</td>\n",
              "      <td>0.108</td>\n",
              "      <td>0.130</td>\n",
              "      <td>0.148</td>\n",
              "      <td>0.220</td>\n",
              "    </tr>\n",
              "    <tr>\n",
              "      <th>Median_household_ Income</th>\n",
              "      <td>5793.0</td>\n",
              "      <td>61999.227861</td>\n",
              "      <td>10206.590186</td>\n",
              "      <td>41754.000</td>\n",
              "      <td>54181.000</td>\n",
              "      <td>60097.000</td>\n",
              "      <td>69600.000</td>\n",
              "      <td>94384.000</td>\n",
              "    </tr>\n",
              "  </tbody>\n",
              "</table>\n",
              "</div>\n",
              "      <button class=\"colab-df-convert\" onclick=\"convertToInteractive('df-c48ac395-b789-4d97-b8e9-49f1f891af94')\"\n",
              "              title=\"Convert this dataframe to an interactive table.\"\n",
              "              style=\"display:none;\">\n",
              "        \n",
              "  <svg xmlns=\"http://www.w3.org/2000/svg\" height=\"24px\"viewBox=\"0 0 24 24\"\n",
              "       width=\"24px\">\n",
              "    <path d=\"M0 0h24v24H0V0z\" fill=\"none\"/>\n",
              "    <path d=\"M18.56 5.44l.94 2.06.94-2.06 2.06-.94-2.06-.94-.94-2.06-.94 2.06-2.06.94zm-11 1L8.5 8.5l.94-2.06 2.06-.94-2.06-.94L8.5 2.5l-.94 2.06-2.06.94zm10 10l.94 2.06.94-2.06 2.06-.94-2.06-.94-.94-2.06-.94 2.06-2.06.94z\"/><path d=\"M17.41 7.96l-1.37-1.37c-.4-.4-.92-.59-1.43-.59-.52 0-1.04.2-1.43.59L10.3 9.45l-7.72 7.72c-.78.78-.78 2.05 0 2.83L4 21.41c.39.39.9.59 1.41.59.51 0 1.02-.2 1.41-.59l7.78-7.78 2.81-2.81c.8-.78.8-2.07 0-2.86zM5.41 20L4 18.59l7.72-7.72 1.47 1.35L5.41 20z\"/>\n",
              "  </svg>\n",
              "      </button>\n",
              "      \n",
              "  <style>\n",
              "    .colab-df-container {\n",
              "      display:flex;\n",
              "      flex-wrap:wrap;\n",
              "      gap: 12px;\n",
              "    }\n",
              "\n",
              "    .colab-df-convert {\n",
              "      background-color: #E8F0FE;\n",
              "      border: none;\n",
              "      border-radius: 50%;\n",
              "      cursor: pointer;\n",
              "      display: none;\n",
              "      fill: #1967D2;\n",
              "      height: 32px;\n",
              "      padding: 0 0 0 0;\n",
              "      width: 32px;\n",
              "    }\n",
              "\n",
              "    .colab-df-convert:hover {\n",
              "      background-color: #E2EBFA;\n",
              "      box-shadow: 0px 1px 2px rgba(60, 64, 67, 0.3), 0px 1px 3px 1px rgba(60, 64, 67, 0.15);\n",
              "      fill: #174EA6;\n",
              "    }\n",
              "\n",
              "    [theme=dark] .colab-df-convert {\n",
              "      background-color: #3B4455;\n",
              "      fill: #D2E3FC;\n",
              "    }\n",
              "\n",
              "    [theme=dark] .colab-df-convert:hover {\n",
              "      background-color: #434B5C;\n",
              "      box-shadow: 0px 1px 3px 1px rgba(0, 0, 0, 0.15);\n",
              "      filter: drop-shadow(0px 1px 2px rgba(0, 0, 0, 0.3));\n",
              "      fill: #FFFFFF;\n",
              "    }\n",
              "  </style>\n",
              "\n",
              "      <script>\n",
              "        const buttonEl =\n",
              "          document.querySelector('#df-c48ac395-b789-4d97-b8e9-49f1f891af94 button.colab-df-convert');\n",
              "        buttonEl.style.display =\n",
              "          google.colab.kernel.accessAllowed ? 'block' : 'none';\n",
              "\n",
              "        async function convertToInteractive(key) {\n",
              "          const element = document.querySelector('#df-c48ac395-b789-4d97-b8e9-49f1f891af94');\n",
              "          const dataTable =\n",
              "            await google.colab.kernel.invokeFunction('convertToInteractive',\n",
              "                                                     [key], {});\n",
              "          if (!dataTable) return;\n",
              "\n",
              "          const docLinkHtml = 'Like what you see? Visit the ' +\n",
              "            '<a target=\"_blank\" href=https://colab.research.google.com/notebooks/data_table.ipynb>data table notebook</a>'\n",
              "            + ' to learn more about interactive tables.';\n",
              "          element.innerHTML = '';\n",
              "          dataTable['output_type'] = 'display_data';\n",
              "          await google.colab.output.renderOutput(dataTable, element);\n",
              "          const docLink = document.createElement('div');\n",
              "          docLink.innerHTML = docLinkHtml;\n",
              "          element.appendChild(docLink);\n",
              "        }\n",
              "      </script>\n",
              "    </div>\n",
              "  </div>\n",
              "  "
            ]
          },
          "metadata": {},
          "execution_count": 11
        }
      ],
      "source": [
        "df.describe().T"
      ]
    },
    {
      "cell_type": "markdown",
      "metadata": {
        "id": "cqpvvsiFuiO7"
      },
      "source": [
        "## Análisis Univariado"
      ]
    },
    {
      "cell_type": "markdown",
      "metadata": {
        "id": "IFUhlJWmAumG"
      },
      "source": [
        "### 1. Análisis de muertes mensuales"
      ]
    },
    {
      "cell_type": "code",
      "execution_count": null,
      "metadata": {
        "colab": {
          "base_uri": "https://localhost:8080/",
          "height": 359
        },
        "id": "4WGvxhix_6HQ",
        "outputId": "ceb1c6e3-5a81-406a-d326-73cda8482316"
      },
      "outputs": [
        {
          "output_type": "display_data",
          "data": {
            "text/plain": [
              "<Figure size 720x360 with 1 Axes>"
            ],
            "image/png": "[encoded data removed]"
          },
          "metadata": {
            "needs_background": "light"
          }
        }
      ],
      "source": [
        "muertes_mensuales = df.groupby(df['Death_Date'].dt.to_period('M')).size()\n",
        "muertes_mensuales.plot(figsize=(10, 5))\n",
        "plt.title('Total de Muertes', fontdict=font1)\n",
        "plt.xlabel('Año', fontdict=font2)\n",
        "plt.ylabel('Cantidad de muertes', fontdict=font2)\n",
        "plt.show()"
      ]
    },
    {
      "cell_type": "code",
      "source": [
        "import plotly.express as px\n",
        "fig = px.box(y=muertes_mensuales.values, points=\"all\",\n",
        "             title='Distribución del total de victimas por mes del 2015 al 2020')\n",
        "fig.show()"
      ],
      "metadata": {
        "colab": {
          "base_uri": "https://localhost:8080/",
          "height": 542
        },
        "id": "_pKRkWSf9OPv",
        "outputId": "782cb896-6240-4863-dc57-4178fa7fbb82"
      },
      "execution_count": null,
      "outputs": [
        {
          "output_type": "display_data",
          "data": {
            "text/html": [
              "<html>\n",
              "<head><meta charset=\"utf-8\" /></head>\n",
              "<body>\n",
              "    <div>            <script src=\"https://cdnjs.cloudflare.com/ajax/libs/mathjax/2.7.5/MathJax.js?config=TeX-AMS-MML_SVG\"></script><script type=\"text/javascript\">if (window.MathJax) {MathJax.Hub.Config({SVG: {font: \"STIX-Web\"}});}</script>                <script type=\"text/javascript\">window.PlotlyConfig = {MathJaxConfig: 'local'};</script>\n",
              "        <script src=\"https://cdn.plot.ly/plotly-2.8.3.min.js\"></script>                <div id=\"e74c55a3-a71c-4735-bdc3-f7e29f43d867\" class=\"plotly-graph-div\" style=\"height:525px; width:100%;\"></div>            <script type=\"text/javascript\">                                    window.PLOTLYENV=window.PLOTLYENV || {};                                    if (document.getElementById(\"e74c55a3-a71c-4735-bdc3-f7e29f43d867\")) {                    Plotly.newPlot(                        \"e74c55a3-a71c-4735-bdc3-f7e29f43d867\",                        [{\"alignmentgroup\":\"True\",\"boxpoints\":\"all\",\"hovertemplate\":\"y=%{y}<extra></extra>\",\"legendgroup\":\"\",\"marker\":{\"color\":\"#636efa\"},\"name\":\"\",\"notched\":false,\"offsetgroup\":\"\",\"orientation\":\"v\",\"showlegend\":false,\"x0\":\" \",\"xaxis\":\"x\",\"y\":[76,77,92,84,71,65,104,94,82,84,77,87,81,86,92,73,73,89,71,82,76,77,77,70,90,98,74,66,69,83,93,80,66,85,80,73,98,76,104,95,78,75,85,72,55,71,69,66,90,72,87,69,71,82,77,78,70,86,72,106,88,77,90,78,107,76,66,86,57,94,87,86],\"y0\":\" \",\"yaxis\":\"y\",\"type\":\"box\"}],                        {\"template\":{\"data\":{\"bar\":[{\"error_x\":{\"color\":\"#2a3f5f\"},\"error_y\":{\"color\":\"#2a3f5f\"},\"marker\":{\"line\":{\"color\":\"#E5ECF6\",\"width\":0.5},\"pattern\":{\"fillmode\":\"overlay\",\"size\":10,\"solidity\":0.2}},\"type\":\"bar\"}],\"barpolar\":[{\"marker\":{\"line\":{\"color\":\"#E5ECF6\",\"width\":0.5},\"pattern\":{\"fillmode\":\"overlay\",\"size\":10,\"solidity\":0.2}},\"type\":\"barpolar\"}],\"carpet\":[{\"aaxis\":{\"endlinecolor\":\"#2a3f5f\",\"gridcolor\":\"white\",\"linecolor\":\"white\",\"minorgridcolor\":\"white\",\"startlinecolor\":\"#2a3f5f\"},\"baxis\":{\"endlinecolor\":\"#2a3f5f\",\"gridcolor\":\"white\",\"linecolor\":\"white\",\"minorgridcolor\":\"white\",\"startlinecolor\":\"#2a3f5f\"},\"type\":\"carpet\"}],\"choropleth\":[{\"colorbar\":{\"outlinewidth\":0,\"ticks\":\"\"},\"type\":\"choropleth\"}],\"contour\":[{\"colorbar\":{\"outlinewidth\":0,\"ticks\":\"\"},\"colorscale\":[[0.0,\"#0d0887\"],[0.1111111111111111,\"#46039f\"],[0.2222222222222222,\"#7201a8\"],[0.3333333333333333,\"#9c179e\"],[0.4444444444444444,\"#bd3786\"],[0.5555555555555556,\"#d8576b\"],[0.6666666666666666,\"#ed7953\"],[0.7777777777777778,\"#fb9f3a\"],[0.8888888888888888,\"#fdca26\"],[1.0,\"#f0f921\"]],\"type\":\"contour\"}],\"contourcarpet\":[{\"colorbar\":{\"outlinewidth\":0,\"ticks\":\"\"},\"type\":\"contourcarpet\"}],\"heatmap\":[{\"colorbar\":{\"outlinewidth\":0,\"ticks\":\"\"},\"colorscale\":[[0.0,\"#0d0887\"],[0.1111111111111111,\"#46039f\"],[0.2222222222222222,\"#7201a8\"],[0.3333333333333333,\"#9c179e\"],[0.4444444444444444,\"#bd3786\"],[0.5555555555555556,\"#d8576b\"],[0.6666666666666666,\"#ed7953\"],[0.7777777777777778,\"#fb9f3a\"],[0.8888888888888888,\"#fdca26\"],[1.0,\"#f0f921\"]],\"type\":\"heatmap\"}],\"heatmapgl\":[{\"colorbar\":{\"outlinewidth\":0,\"ticks\":\"\"},\"colorscale\":[[0.0,\"#0d0887\"],[0.1111111111111111,\"#46039f\"],[0.2222222222222222,\"#7201a8\"],[0.3333333333333333,\"#9c179e\"],[0.4444444444444444,\"#bd3786\"],[0.5555555555555556,\"#d8576b\"],[0.6666666666666666,\"#ed7953\"],[0.7777777777777778,\"#fb9f3a\"],[0.8888888888888888,\"#fdca26\"],[1.0,\"#f0f921\"]],\"type\":\"heatmapgl\"}],\"histogram\":[{\"marker\":{\"pattern\":{\"fillmode\":\"overlay\",\"size\":10,\"solidity\":0.2}},\"type\":\"histogram\"}],\"histogram2d\":[{\"colorbar\":{\"outlinewidth\":0,\"ticks\":\"\"},\"colorscale\":[[0.0,\"#0d0887\"],[0.1111111111111111,\"#46039f\"],[0.2222222222222222,\"#7201a8\"],[0.3333333333333333,\"#9c179e\"],[0.4444444444444444,\"#bd3786\"],[0.5555555555555556,\"#d8576b\"],[0.6666666666666666,\"#ed7953\"],[0.7777777777777778,\"#fb9f3a\"],[0.8888888888888888,\"#fdca26\"],[1.0,\"#f0f921\"]],\"type\":\"histogram2d\"}],\"histogram2dcontour\":[{\"colorbar\":{\"outlinewidth\":0,\"ticks\":\"\"},\"colorscale\":[[0.0,\"#0d0887\"],[0.1111111111111111,\"#46039f\"],[0.2222222222222222,\"#7201a8\"],[0.3333333333333333,\"#9c179e\"],[0.4444444444444444,\"#bd3786\"],[0.5555555555555556,\"#d8576b\"],[0.6666666666666666,\"#ed7953\"],[0.7777777777777778,\"#fb9f3a\"],[0.8888888888888888,\"#fdca26\"],[1.0,\"#f0f921\"]],\"type\":\"histogram2dcontour\"}],\"mesh3d\":[{\"colorbar\":{\"outlinewidth\":0,\"ticks\":\"\"},\"type\":\"mesh3d\"}],\"parcoords\":[{\"line\":{\"colorbar\":{\"outlinewidth\":0,\"ticks\":\"\"}},\"type\":\"parcoords\"}],\"pie\":[{\"automargin\":true,\"type\":\"pie\"}],\"scatter\":[{\"marker\":{\"colorbar\":{\"outlinewidth\":0,\"ticks\":\"\"}},\"type\":\"scatter\"}],\"scatter3d\":[{\"line\":{\"colorbar\":{\"outlinewidth\":0,\"ticks\":\"\"}},\"marker\":{\"colorbar\":{\"outlinewidth\":0,\"ticks\":\"\"}},\"type\":\"scatter3d\"}],\"scattercarpet\":[{\"marker\":{\"colorbar\":{\"outlinewidth\":0,\"ticks\":\"\"}},\"type\":\"scattercarpet\"}],\"scattergeo\":[{\"marker\":{\"colorbar\":{\"outlinewidth\":0,\"ticks\":\"\"}},\"type\":\"scattergeo\"}],\"scattergl\":[{\"marker\":{\"colorbar\":{\"outlinewidth\":0,\"ticks\":\"\"}},\"type\":\"scattergl\"}],\"scattermapbox\":[{\"marker\":{\"colorbar\":{\"outlinewidth\":0,\"ticks\":\"\"}},\"type\":\"scattermapbox\"}],\"scatterpolar\":[{\"marker\":{\"colorbar\":{\"outlinewidth\":0,\"ticks\":\"\"}},\"type\":\"scatterpolar\"}],\"scatterpolargl\":[{\"marker\":{\"colorbar\":{\"outlinewidth\":0,\"ticks\":\"\"}},\"type\":\"scatterpolargl\"}],\"scatterternary\":[{\"marker\":{\"colorbar\":{\"outlinewidth\":0,\"ticks\":\"\"}},\"type\":\"scatterternary\"}],\"surface\":[{\"colorbar\":{\"outlinewidth\":0,\"ticks\":\"\"},\"colorscale\":[[0.0,\"#0d0887\"],[0.1111111111111111,\"#46039f\"],[0.2222222222222222,\"#7201a8\"],[0.3333333333333333,\"#9c179e\"],[0.4444444444444444,\"#bd3786\"],[0.5555555555555556,\"#d8576b\"],[0.6666666666666666,\"#ed7953\"],[0.7777777777777778,\"#fb9f3a\"],[0.8888888888888888,\"#fdca26\"],[1.0,\"#f0f921\"]],\"type\":\"surface\"}],\"table\":[{\"cells\":{\"fill\":{\"color\":\"#EBF0F8\"},\"line\":{\"color\":\"white\"}},\"header\":{\"fill\":{\"color\":\"#C8D4E3\"},\"line\":{\"color\":\"white\"}},\"type\":\"table\"}]},\"layout\":{\"annotationdefaults\":{\"arrowcolor\":\"#2a3f5f\",\"arrowhead\":0,\"arrowwidth\":1},\"autotypenumbers\":\"strict\",\"coloraxis\":{\"colorbar\":{\"outlinewidth\":0,\"ticks\":\"\"}},\"colorscale\":{\"diverging\":[[0,\"#8e0152\"],[0.1,\"#c51b7d\"],[0.2,\"#de77ae\"],[0.3,\"#f1b6da\"],[0.4,\"#fde0ef\"],[0.5,\"#f7f7f7\"],[0.6,\"#e6f5d0\"],[0.7,\"#b8e186\"],[0.8,\"#7fbc41\"],[0.9,\"#4d9221\"],[1,\"#276419\"]],\"sequential\":[[0.0,\"#0d0887\"],[0.1111111111111111,\"#46039f\"],[0.2222222222222222,\"#7201a8\"],[0.3333333333333333,\"#9c179e\"],[0.4444444444444444,\"#bd3786\"],[0.5555555555555556,\"#d8576b\"],[0.6666666666666666,\"#ed7953\"],[0.7777777777777778,\"#fb9f3a\"],[0.8888888888888888,\"#fdca26\"],[1.0,\"#f0f921\"]],\"sequentialminus\":[[0.0,\"#0d0887\"],[0.1111111111111111,\"#46039f\"],[0.2222222222222222,\"#7201a8\"],[0.3333333333333333,\"#9c179e\"],[0.4444444444444444,\"#bd3786\"],[0.5555555555555556,\"#d8576b\"],[0.6666666666666666,\"#ed7953\"],[0.7777777777777778,\"#fb9f3a\"],[0.8888888888888888,\"#fdca26\"],[1.0,\"#f0f921\"]]},\"colorway\":[\"#636efa\",\"#EF553B\",\"#00cc96\",\"#ab63fa\",\"#FFA15A\",\"#19d3f3\",\"#FF6692\",\"#B6E880\",\"#FF97FF\",\"#FECB52\"],\"font\":{\"color\":\"#2a3f5f\"},\"geo\":{\"bgcolor\":\"white\",\"lakecolor\":\"white\",\"landcolor\":\"#E5ECF6\",\"showlakes\":true,\"showland\":true,\"subunitcolor\":\"white\"},\"hoverlabel\":{\"align\":\"left\"},\"hovermode\":\"closest\",\"mapbox\":{\"style\":\"light\"},\"paper_bgcolor\":\"white\",\"plot_bgcolor\":\"#E5ECF6\",\"polar\":{\"angularaxis\":{\"gridcolor\":\"white\",\"linecolor\":\"white\",\"ticks\":\"\"},\"bgcolor\":\"#E5ECF6\",\"radialaxis\":{\"gridcolor\":\"white\",\"linecolor\":\"white\",\"ticks\":\"\"}},\"scene\":{\"xaxis\":{\"backgroundcolor\":\"#E5ECF6\",\"gridcolor\":\"white\",\"gridwidth\":2,\"linecolor\":\"white\",\"showbackground\":true,\"ticks\":\"\",\"zerolinecolor\":\"white\"},\"yaxis\":{\"backgroundcolor\":\"#E5ECF6\",\"gridcolor\":\"white\",\"gridwidth\":2,\"linecolor\":\"white\",\"showbackground\":true,\"ticks\":\"\",\"zerolinecolor\":\"white\"},\"zaxis\":{\"backgroundcolor\":\"#E5ECF6\",\"gridcolor\":\"white\",\"gridwidth\":2,\"linecolor\":\"white\",\"showbackground\":true,\"ticks\":\"\",\"zerolinecolor\":\"white\"}},\"shapedefaults\":{\"line\":{\"color\":\"#2a3f5f\"}},\"ternary\":{\"aaxis\":{\"gridcolor\":\"white\",\"linecolor\":\"white\",\"ticks\":\"\"},\"baxis\":{\"gridcolor\":\"white\",\"linecolor\":\"white\",\"ticks\":\"\"},\"bgcolor\":\"#E5ECF6\",\"caxis\":{\"gridcolor\":\"white\",\"linecolor\":\"white\",\"ticks\":\"\"}},\"title\":{\"x\":0.05},\"xaxis\":{\"automargin\":true,\"gridcolor\":\"white\",\"linecolor\":\"white\",\"ticks\":\"\",\"title\":{\"standoff\":15},\"zerolinecolor\":\"white\",\"zerolinewidth\":2},\"yaxis\":{\"automargin\":true,\"gridcolor\":\"white\",\"linecolor\":\"white\",\"ticks\":\"\",\"title\":{\"standoff\":15},\"zerolinecolor\":\"white\",\"zerolinewidth\":2}}},\"xaxis\":{\"anchor\":\"y\",\"domain\":[0.0,1.0]},\"yaxis\":{\"anchor\":\"x\",\"domain\":[0.0,1.0],\"title\":{\"text\":\"y\"}},\"legend\":{\"tracegroupgap\":0},\"title\":{\"text\":\"Distribuci\\u00f3n del total de victimas por mes del 2015 al 2020\"},\"boxmode\":\"group\"},                        {\"responsive\": true}                    ).then(function(){\n",
              "                            \n",
              "var gd = document.getElementById('e74c55a3-a71c-4735-bdc3-f7e29f43d867');\n",
              "var x = new MutationObserver(function (mutations, observer) {{\n",
              "        var display = window.getComputedStyle(gd).display;\n",
              "        if (!display || display === 'none') {{\n",
              "            console.log([gd, 'removed!']);\n",
              "            Plotly.purge(gd);\n",
              "            observer.disconnect();\n",
              "        }}\n",
              "}});\n",
              "\n",
              "// Listen for the removal of the full notebook cells\n",
              "var notebookContainer = gd.closest('#notebook-container');\n",
              "if (notebookContainer) {{\n",
              "    x.observe(notebookContainer, {childList: true});\n",
              "}}\n",
              "\n",
              "// Listen for the clearing of the current output cell\n",
              "var outputEl = gd.closest('.output');\n",
              "if (outputEl) {{\n",
              "    x.observe(outputEl, {childList: true});\n",
              "}}\n",
              "\n",
              "                        })                };                            </script>        </div>\n",
              "</body>\n",
              "</html>"
            ]
          },
          "metadata": {}
        }
      ]
    },
    {
      "cell_type": "markdown",
      "source": [
        "Al observar estos gráficos, nos llama la atención que la tendencia es muy irregular, sin embargo al visualizar las medidas de tendencia central, es de consideración que el total de civiles muertos mensualmente estén entre los 72 y 87."
      ],
      "metadata": {
        "id": "t0egoqXfMjC3"
      }
    },
    {
      "cell_type": "markdown",
      "metadata": {
        "id": "XWvWvOR2vIlB"
      },
      "source": [
        "### 2. Análisis de muertes por edad"
      ]
    },
    {
      "cell_type": "code",
      "execution_count": null,
      "metadata": {
        "colab": {
          "base_uri": "https://localhost:8080/",
          "height": 533
        },
        "id": "a3iL1NC7a2OV",
        "outputId": "e6a032be-2a6a-4267-d975-a93167efea31"
      },
      "outputs": [
        {
          "output_type": "display_data",
          "data": {
            "text/plain": [
              "<Figure size 504x504 with 1 Axes>"
            ],
            "image/png": "[encoded data removed]"
          },
          "metadata": {
            "needs_background": "light"
          }
        }
      ],
      "source": [
        "sns.displot(df.Age, kde=False, height=7)\n",
        "plt.title('Total de muertos por edad', fontdict=font1)\n",
        "plt.show()"
      ]
    },
    {
      "cell_type": "code",
      "execution_count": null,
      "metadata": {
        "colab": {
          "base_uri": "https://localhost:8080/"
        },
        "id": "pN4OTZPw1XBT",
        "outputId": "8b289c4e-44a9-4bf7-d25c-fbbd99af58bc"
      },
      "outputs": [
        {
          "output_type": "execute_result",
          "data": {
            "text/plain": [
              "DescribeResult(nobs=5793, minmax=(6, 91), mean=37.151734852408076, variance=169.7192032225023, skewness=0.7075762930120995, kurtosis=0.12384936035072824)"
            ]
          },
          "metadata": {},
          "execution_count": 29
        }
      ],
      "source": [
        "scipy.stats.describe(df['Age'])"
      ]
    },
    {
      "cell_type": "code",
      "execution_count": null,
      "metadata": {
        "colab": {
          "base_uri": "https://localhost:8080/"
        },
        "id": "0QXUSJSU2Vmv",
        "outputId": "fbcd47c2-d627-481b-e2ba-1ac6cce042d9"
      },
      "outputs": [
        {
          "output_type": "execute_result",
          "data": {
            "text/plain": [
              "ModeResult(mode=array([31]), count=array([204]))"
            ]
          },
          "metadata": {},
          "execution_count": 30
        }
      ],
      "source": [
        "scipy.stats.mode(df['Age'])"
      ]
    },
    {
      "cell_type": "markdown",
      "metadata": {
        "id": "eJDChbU-z4v_"
      },
      "source": [
        "La distribución por edad está muy marcado en el rango de edad entre los 20 y 40 años. En base al índice de curtosis y asimetría de la variable Age, podemos determinar que la distribución es asimétrica a la derecha, lo que significa que después de los 50 años baja la propensión a que la policía utilice la fuerza letal como respuesta. Esto se puede deber a múltiples motivos, por ejemplo que a partir de esa edad baje la tendencia a cometer crímenes más \"violentos\" que generen una respuesta de igual grado por parte de la policía, o que la misma policía de forma consciente/inconsciente no responde igual frente a la percibida amenaza de una persona de 20 años que una de +50 años."
      ]
    },
    {
      "cell_type": "markdown",
      "metadata": {
        "id": "L-N707kHxBRT"
      },
      "source": [
        "### 3. Análisis de muertes por estado"
      ]
    },
    {
      "cell_type": "code",
      "execution_count": null,
      "metadata": {
        "colab": {
          "base_uri": "https://localhost:8080/",
          "height": 206
        },
        "id": "-_iVj8j1xAWt",
        "outputId": "9cb26127-eee4-4799-c713-7677a6257dd9"
      },
      "outputs": [
        {
          "output_type": "execute_result",
          "data": {
            "text/plain": [
              "  State_Name  Month  count\n",
              "0    Alabama      1     11\n",
              "1    Alabama      2     12\n",
              "2    Alabama      3      9\n",
              "3    Alabama      4      5\n",
              "4    Alabama      5      8"
            ],
            "text/html": [
              "\n",
              "  <div id=\"df-d8b926ba-73dc-4dd2-85ae-2afbe1db154c\">\n",
              "    <div class=\"colab-df-container\">\n",
              "      <div>\n",
              "<style scoped>\n",
              "    .dataframe tbody tr th:only-of-type {\n",
              "        vertical-align: middle;\n",
              "    }\n",
              "\n",
              "    .dataframe tbody tr th {\n",
              "        vertical-align: top;\n",
              "    }\n",
              "\n",
              "    .dataframe thead th {\n",
              "        text-align: right;\n",
              "    }\n",
              "</style>\n",
              "<table border=\"1\" class=\"dataframe\">\n",
              "  <thead>\n",
              "    <tr style=\"text-align: right;\">\n",
              "      <th></th>\n",
              "      <th>State_Name</th>\n",
              "      <th>Month</th>\n",
              "      <th>count</th>\n",
              "    </tr>\n",
              "  </thead>\n",
              "  <tbody>\n",
              "    <tr>\n",
              "      <th>0</th>\n",
              "      <td>Alabama</td>\n",
              "      <td>1</td>\n",
              "      <td>11</td>\n",
              "    </tr>\n",
              "    <tr>\n",
              "      <th>1</th>\n",
              "      <td>Alabama</td>\n",
              "      <td>2</td>\n",
              "      <td>12</td>\n",
              "    </tr>\n",
              "    <tr>\n",
              "      <th>2</th>\n",
              "      <td>Alabama</td>\n",
              "      <td>3</td>\n",
              "      <td>9</td>\n",
              "    </tr>\n",
              "    <tr>\n",
              "      <th>3</th>\n",
              "      <td>Alabama</td>\n",
              "      <td>4</td>\n",
              "      <td>5</td>\n",
              "    </tr>\n",
              "    <tr>\n",
              "      <th>4</th>\n",
              "      <td>Alabama</td>\n",
              "      <td>5</td>\n",
              "      <td>8</td>\n",
              "    </tr>\n",
              "  </tbody>\n",
              "</table>\n",
              "</div>\n",
              "      <button class=\"colab-df-convert\" onclick=\"convertToInteractive('df-d8b926ba-73dc-4dd2-85ae-2afbe1db154c')\"\n",
              "              title=\"Convert this dataframe to an interactive table.\"\n",
              "              style=\"display:none;\">\n",
              "        \n",
              "  <svg xmlns=\"http://www.w3.org/2000/svg\" height=\"24px\"viewBox=\"0 0 24 24\"\n",
              "       width=\"24px\">\n",
              "    <path d=\"M0 0h24v24H0V0z\" fill=\"none\"/>\n",
              "    <path d=\"M18.56 5.44l.94 2.06.94-2.06 2.06-.94-2.06-.94-.94-2.06-.94 2.06-2.06.94zm-11 1L8.5 8.5l.94-2.06 2.06-.94-2.06-.94L8.5 2.5l-.94 2.06-2.06.94zm10 10l.94 2.06.94-2.06 2.06-.94-2.06-.94-.94-2.06-.94 2.06-2.06.94z\"/><path d=\"M17.41 7.96l-1.37-1.37c-.4-.4-.92-.59-1.43-.59-.52 0-1.04.2-1.43.59L10.3 9.45l-7.72 7.72c-.78.78-.78 2.05 0 2.83L4 21.41c.39.39.9.59 1.41.59.51 0 1.02-.2 1.41-.59l7.78-7.78 2.81-2.81c.8-.78.8-2.07 0-2.86zM5.41 20L4 18.59l7.72-7.72 1.47 1.35L5.41 20z\"/>\n",
              "  </svg>\n",
              "      </button>\n",
              "      \n",
              "  <style>\n",
              "    .colab-df-container {\n",
              "      display:flex;\n",
              "      flex-wrap:wrap;\n",
              "      gap: 12px;\n",
              "    }\n",
              "\n",
              "    .colab-df-convert {\n",
              "      background-color: #E8F0FE;\n",
              "      border: none;\n",
              "      border-radius: 50%;\n",
              "      cursor: pointer;\n",
              "      display: none;\n",
              "      fill: #1967D2;\n",
              "      height: 32px;\n",
              "      padding: 0 0 0 0;\n",
              "      width: 32px;\n",
              "    }\n",
              "\n",
              "    .colab-df-convert:hover {\n",
              "      background-color: #E2EBFA;\n",
              "      box-shadow: 0px 1px 2px rgba(60, 64, 67, 0.3), 0px 1px 3px 1px rgba(60, 64, 67, 0.15);\n",
              "      fill: #174EA6;\n",
              "    }\n",
              "\n",
              "    [theme=dark] .colab-df-convert {\n",
              "      background-color: #3B4455;\n",
              "      fill: #D2E3FC;\n",
              "    }\n",
              "\n",
              "    [theme=dark] .colab-df-convert:hover {\n",
              "      background-color: #434B5C;\n",
              "      box-shadow: 0px 1px 3px 1px rgba(0, 0, 0, 0.15);\n",
              "      filter: drop-shadow(0px 1px 2px rgba(0, 0, 0, 0.3));\n",
              "      fill: #FFFFFF;\n",
              "    }\n",
              "  </style>\n",
              "\n",
              "      <script>\n",
              "        const buttonEl =\n",
              "          document.querySelector('#df-d8b926ba-73dc-4dd2-85ae-2afbe1db154c button.colab-df-convert');\n",
              "        buttonEl.style.display =\n",
              "          google.colab.kernel.accessAllowed ? 'block' : 'none';\n",
              "\n",
              "        async function convertToInteractive(key) {\n",
              "          const element = document.querySelector('#df-d8b926ba-73dc-4dd2-85ae-2afbe1db154c');\n",
              "          const dataTable =\n",
              "            await google.colab.kernel.invokeFunction('convertToInteractive',\n",
              "                                                     [key], {});\n",
              "          if (!dataTable) return;\n",
              "\n",
              "          const docLinkHtml = 'Like what you see? Visit the ' +\n",
              "            '<a target=\"_blank\" href=https://colab.research.google.com/notebooks/data_table.ipynb>data table notebook</a>'\n",
              "            + ' to learn more about interactive tables.';\n",
              "          element.innerHTML = '';\n",
              "          dataTable['output_type'] = 'display_data';\n",
              "          await google.colab.output.renderOutput(dataTable, element);\n",
              "          const docLink = document.createElement('div');\n",
              "          docLink.innerHTML = docLinkHtml;\n",
              "          element.appendChild(docLink);\n",
              "        }\n",
              "      </script>\n",
              "    </div>\n",
              "  </div>\n",
              "  "
            ]
          },
          "metadata": {},
          "execution_count": 31
        }
      ],
      "source": [
        "df['Month'] = df['Death_Date'].dt.month\n",
        "df_1 = pd.DataFrame({'count': df.groupby(['State_Name', 'Month']).size()})\n",
        "df_1 = df_1.reset_index()\n",
        "df_1.head()"
      ]
    },
    {
      "cell_type": "code",
      "execution_count": null,
      "metadata": {
        "colab": {
          "base_uri": "https://localhost:8080/",
          "height": 1000
        },
        "id": "BuDmIRWly4GM",
        "outputId": "d527fb0f-248a-466c-d2a5-3d8ada19d8fb"
      },
      "outputs": [
        {
          "output_type": "stream",
          "name": "stderr",
          "text": [
            "/usr/local/lib/python3.7/dist-packages/seaborn/axisgrid.py:670: UserWarning:\n",
            "\n",
            "Using the barplot function without specifying `order` is likely to produce an incorrect plot.\n",
            "\n"
          ]
        },
        {
          "output_type": "display_data",
          "data": {
            "text/plain": [
              "<Figure size 1296x3672 with 51 Axes>"
            ],
            "image/png": "[encoded data removed]"
          },
          "metadata": {
            "needs_background": "light"
          }
        }
      ],
      "source": [
        "chart = sns.FacetGrid(df_1, col='State_Name', margin_titles=True, col_wrap=3, aspect=2, row_order=df['State_Name'].unique)\n",
        "chart.map(sns.barplot, 'Month', 'count',)\n",
        "plt.show()"
      ]
    },
    {
      "cell_type": "markdown",
      "metadata": {
        "id": "tK54Ljhy384z"
      },
      "source": [
        "Obteniendo una estadística de los eventos ocurridos en cada mes, descubrimos que hay meses en los que no ha ocurrido alguna muerte (Enero, Marzo, Abril, Agosto y Octubre). El top 3 de los estados donde se han presentado más muertes son: California, Florida y Texas."
      ]
    },
    {
      "cell_type": "markdown",
      "metadata": {
        "id": "_x6aoNMUB_JF"
      },
      "source": [
        "### 4. Análisis de muertes por Raza"
      ]
    },
    {
      "cell_type": "code",
      "execution_count": null,
      "metadata": {
        "colab": {
          "base_uri": "https://localhost:8080/",
          "height": 269
        },
        "id": "d8tME16n8Rch",
        "outputId": "d9858240-c0cb-4505-df0f-f65a1be78703"
      },
      "outputs": [
        {
          "output_type": "execute_result",
          "data": {
            "text/plain": [
              "      Frecuencia\n",
              "Race            \n",
              "A            106\n",
              "B           1548\n",
              "H           1087\n",
              "N             85\n",
              "O             48\n",
              "W           2919"
            ],
            "text/html": [
              "\n",
              "  <div id=\"df-45fc045a-1121-45bd-99dc-1121e391d4d9\">\n",
              "    <div class=\"colab-df-container\">\n",
              "      <div>\n",
              "<style scoped>\n",
              "    .dataframe tbody tr th:only-of-type {\n",
              "        vertical-align: middle;\n",
              "    }\n",
              "\n",
              "    .dataframe tbody tr th {\n",
              "        vertical-align: top;\n",
              "    }\n",
              "\n",
              "    .dataframe thead th {\n",
              "        text-align: right;\n",
              "    }\n",
              "</style>\n",
              "<table border=\"1\" class=\"dataframe\">\n",
              "  <thead>\n",
              "    <tr style=\"text-align: right;\">\n",
              "      <th></th>\n",
              "      <th>Frecuencia</th>\n",
              "    </tr>\n",
              "    <tr>\n",
              "      <th>Race</th>\n",
              "      <th></th>\n",
              "    </tr>\n",
              "  </thead>\n",
              "  <tbody>\n",
              "    <tr>\n",
              "      <th>A</th>\n",
              "      <td>106</td>\n",
              "    </tr>\n",
              "    <tr>\n",
              "      <th>B</th>\n",
              "      <td>1548</td>\n",
              "    </tr>\n",
              "    <tr>\n",
              "      <th>H</th>\n",
              "      <td>1087</td>\n",
              "    </tr>\n",
              "    <tr>\n",
              "      <th>N</th>\n",
              "      <td>85</td>\n",
              "    </tr>\n",
              "    <tr>\n",
              "      <th>O</th>\n",
              "      <td>48</td>\n",
              "    </tr>\n",
              "    <tr>\n",
              "      <th>W</th>\n",
              "      <td>2919</td>\n",
              "    </tr>\n",
              "  </tbody>\n",
              "</table>\n",
              "</div>\n",
              "      <button class=\"colab-df-convert\" onclick=\"convertToInteractive('df-45fc045a-1121-45bd-99dc-1121e391d4d9')\"\n",
              "              title=\"Convert this dataframe to an interactive table.\"\n",
              "              style=\"display:none;\">\n",
              "        \n",
              "  <svg xmlns=\"http://www.w3.org/2000/svg\" height=\"24px\"viewBox=\"0 0 24 24\"\n",
              "       width=\"24px\">\n",
              "    <path d=\"M0 0h24v24H0V0z\" fill=\"none\"/>\n",
              "    <path d=\"M18.56 5.44l.94 2.06.94-2.06 2.06-.94-2.06-.94-.94-2.06-.94 2.06-2.06.94zm-11 1L8.5 8.5l.94-2.06 2.06-.94-2.06-.94L8.5 2.5l-.94 2.06-2.06.94zm10 10l.94 2.06.94-2.06 2.06-.94-2.06-.94-.94-2.06-.94 2.06-2.06.94z\"/><path d=\"M17.41 7.96l-1.37-1.37c-.4-.4-.92-.59-1.43-.59-.52 0-1.04.2-1.43.59L10.3 9.45l-7.72 7.72c-.78.78-.78 2.05 0 2.83L4 21.41c.39.39.9.59 1.41.59.51 0 1.02-.2 1.41-.59l7.78-7.78 2.81-2.81c.8-.78.8-2.07 0-2.86zM5.41 20L4 18.59l7.72-7.72 1.47 1.35L5.41 20z\"/>\n",
              "  </svg>\n",
              "      </button>\n",
              "      \n",
              "  <style>\n",
              "    .colab-df-container {\n",
              "      display:flex;\n",
              "      flex-wrap:wrap;\n",
              "      gap: 12px;\n",
              "    }\n",
              "\n",
              "    .colab-df-convert {\n",
              "      background-color: #E8F0FE;\n",
              "      border: none;\n",
              "      border-radius: 50%;\n",
              "      cursor: pointer;\n",
              "      display: none;\n",
              "      fill: #1967D2;\n",
              "      height: 32px;\n",
              "      padding: 0 0 0 0;\n",
              "      width: 32px;\n",
              "    }\n",
              "\n",
              "    .colab-df-convert:hover {\n",
              "      background-color: #E2EBFA;\n",
              "      box-shadow: 0px 1px 2px rgba(60, 64, 67, 0.3), 0px 1px 3px 1px rgba(60, 64, 67, 0.15);\n",
              "      fill: #174EA6;\n",
              "    }\n",
              "\n",
              "    [theme=dark] .colab-df-convert {\n",
              "      background-color: #3B4455;\n",
              "      fill: #D2E3FC;\n",
              "    }\n",
              "\n",
              "    [theme=dark] .colab-df-convert:hover {\n",
              "      background-color: #434B5C;\n",
              "      box-shadow: 0px 1px 3px 1px rgba(0, 0, 0, 0.15);\n",
              "      filter: drop-shadow(0px 1px 2px rgba(0, 0, 0, 0.3));\n",
              "      fill: #FFFFFF;\n",
              "    }\n",
              "  </style>\n",
              "\n",
              "      <script>\n",
              "        const buttonEl =\n",
              "          document.querySelector('#df-45fc045a-1121-45bd-99dc-1121e391d4d9 button.colab-df-convert');\n",
              "        buttonEl.style.display =\n",
              "          google.colab.kernel.accessAllowed ? 'block' : 'none';\n",
              "\n",
              "        async function convertToInteractive(key) {\n",
              "          const element = document.querySelector('#df-45fc045a-1121-45bd-99dc-1121e391d4d9');\n",
              "          const dataTable =\n",
              "            await google.colab.kernel.invokeFunction('convertToInteractive',\n",
              "                                                     [key], {});\n",
              "          if (!dataTable) return;\n",
              "\n",
              "          const docLinkHtml = 'Like what you see? Visit the ' +\n",
              "            '<a target=\"_blank\" href=https://colab.research.google.com/notebooks/data_table.ipynb>data table notebook</a>'\n",
              "            + ' to learn more about interactive tables.';\n",
              "          element.innerHTML = '';\n",
              "          dataTable['output_type'] = 'display_data';\n",
              "          await google.colab.output.renderOutput(dataTable, element);\n",
              "          const docLink = document.createElement('div');\n",
              "          docLink.innerHTML = docLinkHtml;\n",
              "          element.appendChild(docLink);\n",
              "        }\n",
              "      </script>\n",
              "    </div>\n",
              "  </div>\n",
              "  "
            ]
          },
          "metadata": {},
          "execution_count": 36
        }
      ],
      "source": [
        "df_pie = df[['Race','State_ID']]\n",
        "pie_race = df_pie.groupby('Race').agg('count')\n",
        "pie_race=pie_race.rename(columns={'State_ID': 'Frecuencia'})\n",
        "pie_race"
      ]
    },
    {
      "cell_type": "code",
      "execution_count": null,
      "metadata": {
        "colab": {
          "base_uri": "https://localhost:8080/",
          "height": 542
        },
        "id": "qHqReNaU6DQ0",
        "outputId": "55bc5242-4fc9-4181-9dc6-25ecd81c9b4d"
      },
      "outputs": [
        {
          "output_type": "display_data",
          "data": {
            "text/html": [
              "<html>\n",
              "<head><meta charset=\"utf-8\" /></head>\n",
              "<body>\n",
              "    <div>            <script src=\"https://cdnjs.cloudflare.com/ajax/libs/mathjax/2.7.5/MathJax.js?config=TeX-AMS-MML_SVG\"></script><script type=\"text/javascript\">if (window.MathJax) {MathJax.Hub.Config({SVG: {font: \"STIX-Web\"}});}</script>                <script type=\"text/javascript\">window.PlotlyConfig = {MathJaxConfig: 'local'};</script>\n",
              "        <script src=\"https://cdn.plot.ly/plotly-2.8.3.min.js\"></script>                <div id=\"c403926f-cc8e-4377-adae-ea2b69475d90\" class=\"plotly-graph-div\" style=\"height:525px; width:100%;\"></div>            <script type=\"text/javascript\">                                    window.PLOTLYENV=window.PLOTLYENV || {};                                    if (document.getElementById(\"c403926f-cc8e-4377-adae-ea2b69475d90\")) {                    Plotly.newPlot(                        \"c403926f-cc8e-4377-adae-ea2b69475d90\",                        [{\"domain\":{\"x\":[0.0,1.0],\"y\":[0.0,1.0]},\"hovertemplate\":\"Race=%{label}<br>Frecuencia=%{value}<extra></extra>\",\"labels\":[\"A\",\"B\",\"H\",\"N\",\"O\",\"W\"],\"legendgroup\":\"\",\"name\":\"\",\"showlegend\":true,\"values\":[106,1548,1087,85,48,2919],\"type\":\"pie\",\"textinfo\":\"percent+label\",\"textposition\":\"inside\"}],                        {\"template\":{\"data\":{\"bar\":[{\"error_x\":{\"color\":\"#2a3f5f\"},\"error_y\":{\"color\":\"#2a3f5f\"},\"marker\":{\"line\":{\"color\":\"#E5ECF6\",\"width\":0.5},\"pattern\":{\"fillmode\":\"overlay\",\"size\":10,\"solidity\":0.2}},\"type\":\"bar\"}],\"barpolar\":[{\"marker\":{\"line\":{\"color\":\"#E5ECF6\",\"width\":0.5},\"pattern\":{\"fillmode\":\"overlay\",\"size\":10,\"solidity\":0.2}},\"type\":\"barpolar\"}],\"carpet\":[{\"aaxis\":{\"endlinecolor\":\"#2a3f5f\",\"gridcolor\":\"white\",\"linecolor\":\"white\",\"minorgridcolor\":\"white\",\"startlinecolor\":\"#2a3f5f\"},\"baxis\":{\"endlinecolor\":\"#2a3f5f\",\"gridcolor\":\"white\",\"linecolor\":\"white\",\"minorgridcolor\":\"white\",\"startlinecolor\":\"#2a3f5f\"},\"type\":\"carpet\"}],\"choropleth\":[{\"colorbar\":{\"outlinewidth\":0,\"ticks\":\"\"},\"type\":\"choropleth\"}],\"contour\":[{\"colorbar\":{\"outlinewidth\":0,\"ticks\":\"\"},\"colorscale\":[[0.0,\"#0d0887\"],[0.1111111111111111,\"#46039f\"],[0.2222222222222222,\"#7201a8\"],[0.3333333333333333,\"#9c179e\"],[0.4444444444444444,\"#bd3786\"],[0.5555555555555556,\"#d8576b\"],[0.6666666666666666,\"#ed7953\"],[0.7777777777777778,\"#fb9f3a\"],[0.8888888888888888,\"#fdca26\"],[1.0,\"#f0f921\"]],\"type\":\"contour\"}],\"contourcarpet\":[{\"colorbar\":{\"outlinewidth\":0,\"ticks\":\"\"},\"type\":\"contourcarpet\"}],\"heatmap\":[{\"colorbar\":{\"outlinewidth\":0,\"ticks\":\"\"},\"colorscale\":[[0.0,\"#0d0887\"],[0.1111111111111111,\"#46039f\"],[0.2222222222222222,\"#7201a8\"],[0.3333333333333333,\"#9c179e\"],[0.4444444444444444,\"#bd3786\"],[0.5555555555555556,\"#d8576b\"],[0.6666666666666666,\"#ed7953\"],[0.7777777777777778,\"#fb9f3a\"],[0.8888888888888888,\"#fdca26\"],[1.0,\"#f0f921\"]],\"type\":\"heatmap\"}],\"heatmapgl\":[{\"colorbar\":{\"outlinewidth\":0,\"ticks\":\"\"},\"colorscale\":[[0.0,\"#0d0887\"],[0.1111111111111111,\"#46039f\"],[0.2222222222222222,\"#7201a8\"],[0.3333333333333333,\"#9c179e\"],[0.4444444444444444,\"#bd3786\"],[0.5555555555555556,\"#d8576b\"],[0.6666666666666666,\"#ed7953\"],[0.7777777777777778,\"#fb9f3a\"],[0.8888888888888888,\"#fdca26\"],[1.0,\"#f0f921\"]],\"type\":\"heatmapgl\"}],\"histogram\":[{\"marker\":{\"pattern\":{\"fillmode\":\"overlay\",\"size\":10,\"solidity\":0.2}},\"type\":\"histogram\"}],\"histogram2d\":[{\"colorbar\":{\"outlinewidth\":0,\"ticks\":\"\"},\"colorscale\":[[0.0,\"#0d0887\"],[0.1111111111111111,\"#46039f\"],[0.2222222222222222,\"#7201a8\"],[0.3333333333333333,\"#9c179e\"],[0.4444444444444444,\"#bd3786\"],[0.5555555555555556,\"#d8576b\"],[0.6666666666666666,\"#ed7953\"],[0.7777777777777778,\"#fb9f3a\"],[0.8888888888888888,\"#fdca26\"],[1.0,\"#f0f921\"]],\"type\":\"histogram2d\"}],\"histogram2dcontour\":[{\"colorbar\":{\"outlinewidth\":0,\"ticks\":\"\"},\"colorscale\":[[0.0,\"#0d0887\"],[0.1111111111111111,\"#46039f\"],[0.2222222222222222,\"#7201a8\"],[0.3333333333333333,\"#9c179e\"],[0.4444444444444444,\"#bd3786\"],[0.5555555555555556,\"#d8576b\"],[0.6666666666666666,\"#ed7953\"],[0.7777777777777778,\"#fb9f3a\"],[0.8888888888888888,\"#fdca26\"],[1.0,\"#f0f921\"]],\"type\":\"histogram2dcontour\"}],\"mesh3d\":[{\"colorbar\":{\"outlinewidth\":0,\"ticks\":\"\"},\"type\":\"mesh3d\"}],\"parcoords\":[{\"line\":{\"colorbar\":{\"outlinewidth\":0,\"ticks\":\"\"}},\"type\":\"parcoords\"}],\"pie\":[{\"automargin\":true,\"type\":\"pie\"}],\"scatter\":[{\"marker\":{\"colorbar\":{\"outlinewidth\":0,\"ticks\":\"\"}},\"type\":\"scatter\"}],\"scatter3d\":[{\"line\":{\"colorbar\":{\"outlinewidth\":0,\"ticks\":\"\"}},\"marker\":{\"colorbar\":{\"outlinewidth\":0,\"ticks\":\"\"}},\"type\":\"scatter3d\"}],\"scattercarpet\":[{\"marker\":{\"colorbar\":{\"outlinewidth\":0,\"ticks\":\"\"}},\"type\":\"scattercarpet\"}],\"scattergeo\":[{\"marker\":{\"colorbar\":{\"outlinewidth\":0,\"ticks\":\"\"}},\"type\":\"scattergeo\"}],\"scattergl\":[{\"marker\":{\"colorbar\":{\"outlinewidth\":0,\"ticks\":\"\"}},\"type\":\"scattergl\"}],\"scattermapbox\":[{\"marker\":{\"colorbar\":{\"outlinewidth\":0,\"ticks\":\"\"}},\"type\":\"scattermapbox\"}],\"scatterpolar\":[{\"marker\":{\"colorbar\":{\"outlinewidth\":0,\"ticks\":\"\"}},\"type\":\"scatterpolar\"}],\"scatterpolargl\":[{\"marker\":{\"colorbar\":{\"outlinewidth\":0,\"ticks\":\"\"}},\"type\":\"scatterpolargl\"}],\"scatterternary\":[{\"marker\":{\"colorbar\":{\"outlinewidth\":0,\"ticks\":\"\"}},\"type\":\"scatterternary\"}],\"surface\":[{\"colorbar\":{\"outlinewidth\":0,\"ticks\":\"\"},\"colorscale\":[[0.0,\"#0d0887\"],[0.1111111111111111,\"#46039f\"],[0.2222222222222222,\"#7201a8\"],[0.3333333333333333,\"#9c179e\"],[0.4444444444444444,\"#bd3786\"],[0.5555555555555556,\"#d8576b\"],[0.6666666666666666,\"#ed7953\"],[0.7777777777777778,\"#fb9f3a\"],[0.8888888888888888,\"#fdca26\"],[1.0,\"#f0f921\"]],\"type\":\"surface\"}],\"table\":[{\"cells\":{\"fill\":{\"color\":\"#EBF0F8\"},\"line\":{\"color\":\"white\"}},\"header\":{\"fill\":{\"color\":\"#C8D4E3\"},\"line\":{\"color\":\"white\"}},\"type\":\"table\"}]},\"layout\":{\"annotationdefaults\":{\"arrowcolor\":\"#2a3f5f\",\"arrowhead\":0,\"arrowwidth\":1},\"autotypenumbers\":\"strict\",\"coloraxis\":{\"colorbar\":{\"outlinewidth\":0,\"ticks\":\"\"}},\"colorscale\":{\"diverging\":[[0,\"#8e0152\"],[0.1,\"#c51b7d\"],[0.2,\"#de77ae\"],[0.3,\"#f1b6da\"],[0.4,\"#fde0ef\"],[0.5,\"#f7f7f7\"],[0.6,\"#e6f5d0\"],[0.7,\"#b8e186\"],[0.8,\"#7fbc41\"],[0.9,\"#4d9221\"],[1,\"#276419\"]],\"sequential\":[[0.0,\"#0d0887\"],[0.1111111111111111,\"#46039f\"],[0.2222222222222222,\"#7201a8\"],[0.3333333333333333,\"#9c179e\"],[0.4444444444444444,\"#bd3786\"],[0.5555555555555556,\"#d8576b\"],[0.6666666666666666,\"#ed7953\"],[0.7777777777777778,\"#fb9f3a\"],[0.8888888888888888,\"#fdca26\"],[1.0,\"#f0f921\"]],\"sequentialminus\":[[0.0,\"#0d0887\"],[0.1111111111111111,\"#46039f\"],[0.2222222222222222,\"#7201a8\"],[0.3333333333333333,\"#9c179e\"],[0.4444444444444444,\"#bd3786\"],[0.5555555555555556,\"#d8576b\"],[0.6666666666666666,\"#ed7953\"],[0.7777777777777778,\"#fb9f3a\"],[0.8888888888888888,\"#fdca26\"],[1.0,\"#f0f921\"]]},\"colorway\":[\"#636efa\",\"#EF553B\",\"#00cc96\",\"#ab63fa\",\"#FFA15A\",\"#19d3f3\",\"#FF6692\",\"#B6E880\",\"#FF97FF\",\"#FECB52\"],\"font\":{\"color\":\"#2a3f5f\"},\"geo\":{\"bgcolor\":\"white\",\"lakecolor\":\"white\",\"landcolor\":\"#E5ECF6\",\"showlakes\":true,\"showland\":true,\"subunitcolor\":\"white\"},\"hoverlabel\":{\"align\":\"left\"},\"hovermode\":\"closest\",\"mapbox\":{\"style\":\"light\"},\"paper_bgcolor\":\"white\",\"plot_bgcolor\":\"#E5ECF6\",\"polar\":{\"angularaxis\":{\"gridcolor\":\"white\",\"linecolor\":\"white\",\"ticks\":\"\"},\"bgcolor\":\"#E5ECF6\",\"radialaxis\":{\"gridcolor\":\"white\",\"linecolor\":\"white\",\"ticks\":\"\"}},\"scene\":{\"xaxis\":{\"backgroundcolor\":\"#E5ECF6\",\"gridcolor\":\"white\",\"gridwidth\":2,\"linecolor\":\"white\",\"showbackground\":true,\"ticks\":\"\",\"zerolinecolor\":\"white\"},\"yaxis\":{\"backgroundcolor\":\"#E5ECF6\",\"gridcolor\":\"white\",\"gridwidth\":2,\"linecolor\":\"white\",\"showbackground\":true,\"ticks\":\"\",\"zerolinecolor\":\"white\"},\"zaxis\":{\"backgroundcolor\":\"#E5ECF6\",\"gridcolor\":\"white\",\"gridwidth\":2,\"linecolor\":\"white\",\"showbackground\":true,\"ticks\":\"\",\"zerolinecolor\":\"white\"}},\"shapedefaults\":{\"line\":{\"color\":\"#2a3f5f\"}},\"ternary\":{\"aaxis\":{\"gridcolor\":\"white\",\"linecolor\":\"white\",\"ticks\":\"\"},\"baxis\":{\"gridcolor\":\"white\",\"linecolor\":\"white\",\"ticks\":\"\"},\"bgcolor\":\"#E5ECF6\",\"caxis\":{\"gridcolor\":\"white\",\"linecolor\":\"white\",\"ticks\":\"\"}},\"title\":{\"x\":0.05},\"xaxis\":{\"automargin\":true,\"gridcolor\":\"white\",\"linecolor\":\"white\",\"ticks\":\"\",\"title\":{\"standoff\":15},\"zerolinecolor\":\"white\",\"zerolinewidth\":2},\"yaxis\":{\"automargin\":true,\"gridcolor\":\"white\",\"linecolor\":\"white\",\"ticks\":\"\",\"title\":{\"standoff\":15},\"zerolinecolor\":\"white\",\"zerolinewidth\":2}}},\"legend\":{\"tracegroupgap\":0},\"title\":{\"text\":\"Muertes por Raza\"}},                        {\"responsive\": true}                    ).then(function(){\n",
              "                            \n",
              "var gd = document.getElementById('c403926f-cc8e-4377-adae-ea2b69475d90');\n",
              "var x = new MutationObserver(function (mutations, observer) {{\n",
              "        var display = window.getComputedStyle(gd).display;\n",
              "        if (!display || display === 'none') {{\n",
              "            console.log([gd, 'removed!']);\n",
              "            Plotly.purge(gd);\n",
              "            observer.disconnect();\n",
              "        }}\n",
              "}});\n",
              "\n",
              "// Listen for the removal of the full notebook cells\n",
              "var notebookContainer = gd.closest('#notebook-container');\n",
              "if (notebookContainer) {{\n",
              "    x.observe(notebookContainer, {childList: true});\n",
              "}}\n",
              "\n",
              "// Listen for the clearing of the current output cell\n",
              "var outputEl = gd.closest('.output');\n",
              "if (outputEl) {{\n",
              "    x.observe(outputEl, {childList: true});\n",
              "}}\n",
              "\n",
              "                        })                };                            </script>        </div>\n",
              "</body>\n",
              "</html>"
            ]
          },
          "metadata": {}
        }
      ],
      "source": [
        "import plotly.express as px\n",
        "fig = px.pie(pie_race, values='Frecuencia', \\\n",
        "             names=pie_race.index, title='Muertes por Raza')\n",
        "fig.update_traces(textposition='inside', textinfo='percent+label')\n",
        "fig.show()"
      ]
    },
    {
      "cell_type": "markdown",
      "metadata": {
        "id": "d2Nc142fKplg"
      },
      "source": [
        "El 50,4% de los fallecidos civiles por la policía en EEUU son de raza blanca, seguido por un 26,7% de raza afroamericana y el 18.8% de hispanos."
      ]
    },
    {
      "cell_type": "markdown",
      "metadata": {
        "id": "HtEHMDhscl91"
      },
      "source": [
        "### 5. Análisis de llamadas al 911"
      ]
    },
    {
      "cell_type": "code",
      "source": [
        "sns.countplot(y='Encounter_Type', data=df, order=df['Encounter_Type'].value_counts().index)\n",
        "plt.title('Muertes por tipo de encuentro', fontdict=font1)\n",
        "plt.show()"
      ],
      "metadata": {
        "id": "Ovr9qsH7yLd9",
        "colab": {
          "base_uri": "https://localhost:8080/",
          "height": 299
        },
        "outputId": "fde5e6fb-df03-450c-e3ac-95f4f196e4ba"
      },
      "execution_count": null,
      "outputs": [
        {
          "output_type": "display_data",
          "data": {
            "text/plain": [
              "<Figure size 432x288 with 1 Axes>"
            ],
            "image/png": "[encoded data removed]"
          },
          "metadata": {
            "needs_background": "light"
          }
        }
      ]
    },
    {
      "cell_type": "markdown",
      "source": [
        "Si bien la mayor cantidad de muertes civiles se producen en ocasión de crimen violento perpertrado por el civil abatido, la mayoría de los casos representan hechos o delitos no violentos, como \"other non-violent offence\", \"domestic disturbance\", o directamente \"Mental Health\". Este ultimo caso, que llega a pasar las 600 víctimas en el período 2015-2020, debiera ser de principal consideración dado que se trata de personas enfermas que son abatidas como si representaran amenaza de vida para otros.\n",
        "\n",
        "La policía no esta preparada ni entrenada para poder asistir a personas con enfermedades mentales/transtornos que causen un comportamiento errático, y muchas veces eso conlleva a que se los vea como peligrosos."
      ],
      "metadata": {
        "id": "D02TiH4ylcwD"
      }
    },
    {
      "cell_type": "markdown",
      "source": [
        "### 6. Análisis de muertes por tipo de arma"
      ],
      "metadata": {
        "id": "Vwfsu03dxwFh"
      }
    },
    {
      "cell_type": "code",
      "execution_count": null,
      "metadata": {
        "id": "iuo9d9xpuvsc",
        "colab": {
          "base_uri": "https://localhost:8080/",
          "height": 300
        },
        "outputId": "b5ef60f0-8b4f-43dd-ec00-b1c36454393f"
      },
      "outputs": [
        {
          "output_type": "display_data",
          "data": {
            "text/plain": [
              "<Figure size 432x288 with 1 Axes>"
            ],
            "image/png": "[encoded data removed]"
          },
          "metadata": {
            "needs_background": "light"
          }
        }
      ],
      "source": [
        "sns.countplot(y='Armed', data=df, order=pd.value_counts(df['Armed']).iloc[:5].index)\n",
        "plt.title('Muertes por tipo de arma que portaba la víctima', fontdict=font1)\n",
        "plt.show()"
      ]
    },
    {
      "cell_type": "markdown",
      "source": [
        "En cuanto al análisis del tipo de arma poseida por los civiles abatidos, si bien predominan armas de fuego, hay más de 500 casos entre civiles desarmados y con armas de juguete, lo que configuraría un claro exceso policíaco."
      ],
      "metadata": {
        "id": "htzBCP0nmRg6"
      }
    },
    {
      "cell_type": "markdown",
      "source": [
        "### 7. Análisis de porcentaje de víctimas civiles con alguna enfermedad mental"
      ],
      "metadata": {
        "id": "fAav2vBxn5DX"
      }
    },
    {
      "cell_type": "code",
      "source": [
        "pie_mental = df.groupby('Signs_of_mental_illness')[['Age']].agg('count')\n",
        "pie_mental = pie_mental.rename({'Age': 'Frecuencia'}, axis=1)\n",
        "\n",
        "fig = px.pie(pie_mental, values='Frecuencia', names=pie_mental.index, title='Porcentaje de civiles con enfermedad mental muertos por policías en USA, 2015-2020')\n",
        "fig.update_traces(textposition='inside', textinfo='percent+label')\n",
        "fig.show()"
      ],
      "metadata": {
        "id": "kCB02avtIoIo",
        "colab": {
          "base_uri": "https://localhost:8080/",
          "height": 542
        },
        "outputId": "7c2b203f-2954-4727-df1c-19a2bbe46fba"
      },
      "execution_count": null,
      "outputs": [
        {
          "output_type": "display_data",
          "data": {
            "text/html": [
              "<html>\n",
              "<head><meta charset=\"utf-8\" /></head>\n",
              "<body>\n",
              "    <div>            <script src=\"https://cdnjs.cloudflare.com/ajax/libs/mathjax/2.7.5/MathJax.js?config=TeX-AMS-MML_SVG\"></script><script type=\"text/javascript\">if (window.MathJax) {MathJax.Hub.Config({SVG: {font: \"STIX-Web\"}});}</script>                <script type=\"text/javascript\">window.PlotlyConfig = {MathJaxConfig: 'local'};</script>\n",
              "        <script src=\"https://cdn.plot.ly/plotly-2.8.3.min.js\"></script>                <div id=\"6d26ed32-fcee-4d5a-9e9d-90c17de51baf\" class=\"plotly-graph-div\" style=\"height:525px; width:100%;\"></div>            <script type=\"text/javascript\">                                    window.PLOTLYENV=window.PLOTLYENV || {};                                    if (document.getElementById(\"6d26ed32-fcee-4d5a-9e9d-90c17de51baf\")) {                    Plotly.newPlot(                        \"6d26ed32-fcee-4d5a-9e9d-90c17de51baf\",                        [{\"domain\":{\"x\":[0.0,1.0],\"y\":[0.0,1.0]},\"hovertemplate\":\"Signs_of_mental_illness=%{label}<br>Frecuencia=%{value}<extra></extra>\",\"labels\":[false,true],\"legendgroup\":\"\",\"name\":\"\",\"showlegend\":true,\"values\":[4416,1377],\"type\":\"pie\",\"textinfo\":\"percent+label\",\"textposition\":\"inside\"}],                        {\"template\":{\"data\":{\"bar\":[{\"error_x\":{\"color\":\"#2a3f5f\"},\"error_y\":{\"color\":\"#2a3f5f\"},\"marker\":{\"line\":{\"color\":\"#E5ECF6\",\"width\":0.5},\"pattern\":{\"fillmode\":\"overlay\",\"size\":10,\"solidity\":0.2}},\"type\":\"bar\"}],\"barpolar\":[{\"marker\":{\"line\":{\"color\":\"#E5ECF6\",\"width\":0.5},\"pattern\":{\"fillmode\":\"overlay\",\"size\":10,\"solidity\":0.2}},\"type\":\"barpolar\"}],\"carpet\":[{\"aaxis\":{\"endlinecolor\":\"#2a3f5f\",\"gridcolor\":\"white\",\"linecolor\":\"white\",\"minorgridcolor\":\"white\",\"startlinecolor\":\"#2a3f5f\"},\"baxis\":{\"endlinecolor\":\"#2a3f5f\",\"gridcolor\":\"white\",\"linecolor\":\"white\",\"minorgridcolor\":\"white\",\"startlinecolor\":\"#2a3f5f\"},\"type\":\"carpet\"}],\"choropleth\":[{\"colorbar\":{\"outlinewidth\":0,\"ticks\":\"\"},\"type\":\"choropleth\"}],\"contour\":[{\"colorbar\":{\"outlinewidth\":0,\"ticks\":\"\"},\"colorscale\":[[0.0,\"#0d0887\"],[0.1111111111111111,\"#46039f\"],[0.2222222222222222,\"#7201a8\"],[0.3333333333333333,\"#9c179e\"],[0.4444444444444444,\"#bd3786\"],[0.5555555555555556,\"#d8576b\"],[0.6666666666666666,\"#ed7953\"],[0.7777777777777778,\"#fb9f3a\"],[0.8888888888888888,\"#fdca26\"],[1.0,\"#f0f921\"]],\"type\":\"contour\"}],\"contourcarpet\":[{\"colorbar\":{\"outlinewidth\":0,\"ticks\":\"\"},\"type\":\"contourcarpet\"}],\"heatmap\":[{\"colorbar\":{\"outlinewidth\":0,\"ticks\":\"\"},\"colorscale\":[[0.0,\"#0d0887\"],[0.1111111111111111,\"#46039f\"],[0.2222222222222222,\"#7201a8\"],[0.3333333333333333,\"#9c179e\"],[0.4444444444444444,\"#bd3786\"],[0.5555555555555556,\"#d8576b\"],[0.6666666666666666,\"#ed7953\"],[0.7777777777777778,\"#fb9f3a\"],[0.8888888888888888,\"#fdca26\"],[1.0,\"#f0f921\"]],\"type\":\"heatmap\"}],\"heatmapgl\":[{\"colorbar\":{\"outlinewidth\":0,\"ticks\":\"\"},\"colorscale\":[[0.0,\"#0d0887\"],[0.1111111111111111,\"#46039f\"],[0.2222222222222222,\"#7201a8\"],[0.3333333333333333,\"#9c179e\"],[0.4444444444444444,\"#bd3786\"],[0.5555555555555556,\"#d8576b\"],[0.6666666666666666,\"#ed7953\"],[0.7777777777777778,\"#fb9f3a\"],[0.8888888888888888,\"#fdca26\"],[1.0,\"#f0f921\"]],\"type\":\"heatmapgl\"}],\"histogram\":[{\"marker\":{\"pattern\":{\"fillmode\":\"overlay\",\"size\":10,\"solidity\":0.2}},\"type\":\"histogram\"}],\"histogram2d\":[{\"colorbar\":{\"outlinewidth\":0,\"ticks\":\"\"},\"colorscale\":[[0.0,\"#0d0887\"],[0.1111111111111111,\"#46039f\"],[0.2222222222222222,\"#7201a8\"],[0.3333333333333333,\"#9c179e\"],[0.4444444444444444,\"#bd3786\"],[0.5555555555555556,\"#d8576b\"],[0.6666666666666666,\"#ed7953\"],[0.7777777777777778,\"#fb9f3a\"],[0.8888888888888888,\"#fdca26\"],[1.0,\"#f0f921\"]],\"type\":\"histogram2d\"}],\"histogram2dcontour\":[{\"colorbar\":{\"outlinewidth\":0,\"ticks\":\"\"},\"colorscale\":[[0.0,\"#0d0887\"],[0.1111111111111111,\"#46039f\"],[0.2222222222222222,\"#7201a8\"],[0.3333333333333333,\"#9c179e\"],[0.4444444444444444,\"#bd3786\"],[0.5555555555555556,\"#d8576b\"],[0.6666666666666666,\"#ed7953\"],[0.7777777777777778,\"#fb9f3a\"],[0.8888888888888888,\"#fdca26\"],[1.0,\"#f0f921\"]],\"type\":\"histogram2dcontour\"}],\"mesh3d\":[{\"colorbar\":{\"outlinewidth\":0,\"ticks\":\"\"},\"type\":\"mesh3d\"}],\"parcoords\":[{\"line\":{\"colorbar\":{\"outlinewidth\":0,\"ticks\":\"\"}},\"type\":\"parcoords\"}],\"pie\":[{\"automargin\":true,\"type\":\"pie\"}],\"scatter\":[{\"marker\":{\"colorbar\":{\"outlinewidth\":0,\"ticks\":\"\"}},\"type\":\"scatter\"}],\"scatter3d\":[{\"line\":{\"colorbar\":{\"outlinewidth\":0,\"ticks\":\"\"}},\"marker\":{\"colorbar\":{\"outlinewidth\":0,\"ticks\":\"\"}},\"type\":\"scatter3d\"}],\"scattercarpet\":[{\"marker\":{\"colorbar\":{\"outlinewidth\":0,\"ticks\":\"\"}},\"type\":\"scattercarpet\"}],\"scattergeo\":[{\"marker\":{\"colorbar\":{\"outlinewidth\":0,\"ticks\":\"\"}},\"type\":\"scattergeo\"}],\"scattergl\":[{\"marker\":{\"colorbar\":{\"outlinewidth\":0,\"ticks\":\"\"}},\"type\":\"scattergl\"}],\"scattermapbox\":[{\"marker\":{\"colorbar\":{\"outlinewidth\":0,\"ticks\":\"\"}},\"type\":\"scattermapbox\"}],\"scatterpolar\":[{\"marker\":{\"colorbar\":{\"outlinewidth\":0,\"ticks\":\"\"}},\"type\":\"scatterpolar\"}],\"scatterpolargl\":[{\"marker\":{\"colorbar\":{\"outlinewidth\":0,\"ticks\":\"\"}},\"type\":\"scatterpolargl\"}],\"scatterternary\":[{\"marker\":{\"colorbar\":{\"outlinewidth\":0,\"ticks\":\"\"}},\"type\":\"scatterternary\"}],\"surface\":[{\"colorbar\":{\"outlinewidth\":0,\"ticks\":\"\"},\"colorscale\":[[0.0,\"#0d0887\"],[0.1111111111111111,\"#46039f\"],[0.2222222222222222,\"#7201a8\"],[0.3333333333333333,\"#9c179e\"],[0.4444444444444444,\"#bd3786\"],[0.5555555555555556,\"#d8576b\"],[0.6666666666666666,\"#ed7953\"],[0.7777777777777778,\"#fb9f3a\"],[0.8888888888888888,\"#fdca26\"],[1.0,\"#f0f921\"]],\"type\":\"surface\"}],\"table\":[{\"cells\":{\"fill\":{\"color\":\"#EBF0F8\"},\"line\":{\"color\":\"white\"}},\"header\":{\"fill\":{\"color\":\"#C8D4E3\"},\"line\":{\"color\":\"white\"}},\"type\":\"table\"}]},\"layout\":{\"annotationdefaults\":{\"arrowcolor\":\"#2a3f5f\",\"arrowhead\":0,\"arrowwidth\":1},\"autotypenumbers\":\"strict\",\"coloraxis\":{\"colorbar\":{\"outlinewidth\":0,\"ticks\":\"\"}},\"colorscale\":{\"diverging\":[[0,\"#8e0152\"],[0.1,\"#c51b7d\"],[0.2,\"#de77ae\"],[0.3,\"#f1b6da\"],[0.4,\"#fde0ef\"],[0.5,\"#f7f7f7\"],[0.6,\"#e6f5d0\"],[0.7,\"#b8e186\"],[0.8,\"#7fbc41\"],[0.9,\"#4d9221\"],[1,\"#276419\"]],\"sequential\":[[0.0,\"#0d0887\"],[0.1111111111111111,\"#46039f\"],[0.2222222222222222,\"#7201a8\"],[0.3333333333333333,\"#9c179e\"],[0.4444444444444444,\"#bd3786\"],[0.5555555555555556,\"#d8576b\"],[0.6666666666666666,\"#ed7953\"],[0.7777777777777778,\"#fb9f3a\"],[0.8888888888888888,\"#fdca26\"],[1.0,\"#f0f921\"]],\"sequentialminus\":[[0.0,\"#0d0887\"],[0.1111111111111111,\"#46039f\"],[0.2222222222222222,\"#7201a8\"],[0.3333333333333333,\"#9c179e\"],[0.4444444444444444,\"#bd3786\"],[0.5555555555555556,\"#d8576b\"],[0.6666666666666666,\"#ed7953\"],[0.7777777777777778,\"#fb9f3a\"],[0.8888888888888888,\"#fdca26\"],[1.0,\"#f0f921\"]]},\"colorway\":[\"#636efa\",\"#EF553B\",\"#00cc96\",\"#ab63fa\",\"#FFA15A\",\"#19d3f3\",\"#FF6692\",\"#B6E880\",\"#FF97FF\",\"#FECB52\"],\"font\":{\"color\":\"#2a3f5f\"},\"geo\":{\"bgcolor\":\"white\",\"lakecolor\":\"white\",\"landcolor\":\"#E5ECF6\",\"showlakes\":true,\"showland\":true,\"subunitcolor\":\"white\"},\"hoverlabel\":{\"align\":\"left\"},\"hovermode\":\"closest\",\"mapbox\":{\"style\":\"light\"},\"paper_bgcolor\":\"white\",\"plot_bgcolor\":\"#E5ECF6\",\"polar\":{\"angularaxis\":{\"gridcolor\":\"white\",\"linecolor\":\"white\",\"ticks\":\"\"},\"bgcolor\":\"#E5ECF6\",\"radialaxis\":{\"gridcolor\":\"white\",\"linecolor\":\"white\",\"ticks\":\"\"}},\"scene\":{\"xaxis\":{\"backgroundcolor\":\"#E5ECF6\",\"gridcolor\":\"white\",\"gridwidth\":2,\"linecolor\":\"white\",\"showbackground\":true,\"ticks\":\"\",\"zerolinecolor\":\"white\"},\"yaxis\":{\"backgroundcolor\":\"#E5ECF6\",\"gridcolor\":\"white\",\"gridwidth\":2,\"linecolor\":\"white\",\"showbackground\":true,\"ticks\":\"\",\"zerolinecolor\":\"white\"},\"zaxis\":{\"backgroundcolor\":\"#E5ECF6\",\"gridcolor\":\"white\",\"gridwidth\":2,\"linecolor\":\"white\",\"showbackground\":true,\"ticks\":\"\",\"zerolinecolor\":\"white\"}},\"shapedefaults\":{\"line\":{\"color\":\"#2a3f5f\"}},\"ternary\":{\"aaxis\":{\"gridcolor\":\"white\",\"linecolor\":\"white\",\"ticks\":\"\"},\"baxis\":{\"gridcolor\":\"white\",\"linecolor\":\"white\",\"ticks\":\"\"},\"bgcolor\":\"#E5ECF6\",\"caxis\":{\"gridcolor\":\"white\",\"linecolor\":\"white\",\"ticks\":\"\"}},\"title\":{\"x\":0.05},\"xaxis\":{\"automargin\":true,\"gridcolor\":\"white\",\"linecolor\":\"white\",\"ticks\":\"\",\"title\":{\"standoff\":15},\"zerolinecolor\":\"white\",\"zerolinewidth\":2},\"yaxis\":{\"automargin\":true,\"gridcolor\":\"white\",\"linecolor\":\"white\",\"ticks\":\"\",\"title\":{\"standoff\":15},\"zerolinecolor\":\"white\",\"zerolinewidth\":2}}},\"legend\":{\"tracegroupgap\":0},\"title\":{\"text\":\"Porcentaje de civiles con enfermedad mental muertos por polic\\u00edas en USA, 2015-2020\"}},                        {\"responsive\": true}                    ).then(function(){\n",
              "                            \n",
              "var gd = document.getElementById('6d26ed32-fcee-4d5a-9e9d-90c17de51baf');\n",
              "var x = new MutationObserver(function (mutations, observer) {{\n",
              "        var display = window.getComputedStyle(gd).display;\n",
              "        if (!display || display === 'none') {{\n",
              "            console.log([gd, 'removed!']);\n",
              "            Plotly.purge(gd);\n",
              "            observer.disconnect();\n",
              "        }}\n",
              "}});\n",
              "\n",
              "// Listen for the removal of the full notebook cells\n",
              "var notebookContainer = gd.closest('#notebook-container');\n",
              "if (notebookContainer) {{\n",
              "    x.observe(notebookContainer, {childList: true});\n",
              "}}\n",
              "\n",
              "// Listen for the clearing of the current output cell\n",
              "var outputEl = gd.closest('.output');\n",
              "if (outputEl) {{\n",
              "    x.observe(outputEl, {childList: true});\n",
              "}}\n",
              "\n",
              "                        })                };                            </script>        </div>\n",
              "</body>\n",
              "</html>"
            ]
          },
          "metadata": {}
        }
      ]
    },
    {
      "cell_type": "markdown",
      "source": [
        "Este gráfico nos muestra como el 23.8% de los civiles muertos tenían algún problema mental.\n",
        "\n",
        "Según estudios de la NAMI (National Alliance on Mental Illness) en EE.UU. 1 de cada 5 adultos sufre de una enfermedad mental, y 1 de cada 20 sufre una enfermedad mental grave. Hay un claro exceso de brutalidad policial en este caso comparando los números, ya que los casos más graves de enfermedad son un 5,6% de la población, comparado al 23.8% que se observa que murió a manos de la policía."
      ],
      "metadata": {
        "id": "P03xZh25_5Rm"
      }
    },
    {
      "cell_type": "markdown",
      "metadata": {
        "id": "ad88Ao7LDxYq"
      },
      "source": [
        "## Analisis Bivariado"
      ]
    },
    {
      "cell_type": "markdown",
      "source": [
        "### 1) Histograma de muertes por edad y género"
      ],
      "metadata": {
        "id": "4ZZvRgE5Ew5B"
      }
    },
    {
      "cell_type": "code",
      "execution_count": null,
      "metadata": {
        "id": "XcM9KZfKvNiU",
        "colab": {
          "base_uri": "https://localhost:8080/",
          "height": 300
        },
        "outputId": "ac8cbc98-0ef2-4486-a46f-c6a1a1637c19"
      },
      "outputs": [
        {
          "output_type": "display_data",
          "data": {
            "text/plain": [
              "<Figure size 432x288 with 1 Axes>"
            ],
            "image/png": "[encoded data removed]"
          },
          "metadata": {
            "needs_background": "light"
          }
        }
      ],
      "source": [
        "sns.histplot(data=df, x=\"Age\", hue=\"Gender\")\n",
        "plt.title(\"Histograma de muertes por edad y género\", fontdict=font1)\n",
        "plt.show()"
      ]
    },
    {
      "cell_type": "markdown",
      "source": [
        "Además de la distribución de edad observada anteriormente (marcada entre 20 y 40 años), se puede ver la diferencia en muertes entre hombres y mujeres. Probablemente se debe a que los números de mujeres que comiten un crimen es mucho más bajo comparado a los hombres."
      ],
      "metadata": {
        "id": "jSw2uqo56NoO"
      }
    },
    {
      "cell_type": "markdown",
      "source": [
        "### 2) Catplot de causa de intervención policíaca por año"
      ],
      "metadata": {
        "id": "mgf_CnVHE9_C"
      }
    },
    {
      "cell_type": "code",
      "execution_count": null,
      "metadata": {
        "id": "SwO7ToJak-7N",
        "colab": {
          "base_uri": "https://localhost:8080/",
          "height": 534
        },
        "outputId": "8dcf3e39-08b7-44dc-e28b-496b2eb2bfee"
      },
      "outputs": [
        {
          "output_type": "display_data",
          "data": {
            "text/plain": [
              "<Figure size 1512x504 with 1 Axes>"
            ],
            "image/png": "[encoded data removed]"
          },
          "metadata": {
            "needs_background": "light"
          }
        }
      ],
      "source": [
        "sns.catplot(data=df, x=\"Encounter_Type\", y=\"Year\", kind=\"violin\", height=7, aspect=15/5)\n",
        "plt.title('Distribución de las muertes por tipo de encuentro', fontdict=font1)\n",
        "plt.show()"
      ]
    },
    {
      "cell_type": "markdown",
      "source": [
        "Podemos observar la variación de los reportes en las llamadas al 911, con aumentos marcados en los crímenes violentos con cada año."
      ],
      "metadata": {
        "id": "qg0glK2Y68v3"
      }
    },
    {
      "cell_type": "markdown",
      "source": [
        "### 3) Histograma de causa de intervención policíaca posteriores a 2018\n"
      ],
      "metadata": {
        "id": "d2x4QBTtFMSM"
      }
    },
    {
      "cell_type": "code",
      "execution_count": null,
      "metadata": {
        "id": "JquKKlqtpKZC"
      },
      "outputs": [],
      "source": [
        "df_covid = df[df['Year'] > 2018] \n",
        "plt.figure(figsize=(20,6))\n",
        "sns.histplot(data=df_covid, x=\"Encounter_Type\", hue='Year')"
      ]
    },
    {
      "cell_type": "markdown",
      "metadata": {
        "id": "cjMjLUhJF-kS"
      },
      "source": [
        "Parece haber un incremento marcado en los crímenes violentos entre 2019 y 2020, puede deberse a la situación política y sanitaria del país durante este año."
      ]
    },
    {
      "cell_type": "markdown",
      "source": [
        "### 4) Catplot de tipo de arma utilizada por el civil por año"
      ],
      "metadata": {
        "id": "zex-onQWF9Dd"
      }
    },
    {
      "cell_type": "code",
      "execution_count": null,
      "metadata": {
        "id": "XYyeb8Vbyazc"
      },
      "outputs": [],
      "source": [
        "df_armed = df.loc[df['Armed'].isin(['Gun','Knife','Unarmed','Unknown','Toy Weapon'])]\n",
        "plt.figure(figsize=(20,6))\n",
        "sns.catplot(data=df_armed, x=\"Armed\", y=\"Year\", kind=\"violin\", height=5, aspect=15/5)"
      ]
    },
    {
      "cell_type": "markdown",
      "metadata": {
        "id": "7VxKejWxGlra"
      },
      "source": [
        "Las personas que portan arma de fuego han incrementando con el paso del tiempo, siendo más del triple que la segunda categoría, esto se alinea con el aumento de crímenes violentos y la facilidad para acceder a armas en EE.UU."
      ]
    },
    {
      "cell_type": "markdown",
      "source": [
        "### 5) Distribución de estados por conteo de víctimas e ingreso medio por hogar"
      ],
      "metadata": {
        "id": "c3ybfMHOGqxi"
      }
    },
    {
      "cell_type": "code",
      "execution_count": null,
      "metadata": {
        "id": "mX9jhLi829gD"
      },
      "outputs": [],
      "source": [
        "#Dataset x estado\n",
        "df_by_state = df[['Civil_Name','state_initial','Year','Median_household_ Income','Party']]\n",
        "df_by_state_2020 = df_by_state[df_by_state.Year.isin([2020])]\n",
        "df_by_state_2020 = df_by_state_2020.groupby(['Year','Party','state_initial','Median_household_ Income']).agg({'Civil_Name':'count'}).reset_index()\n",
        "df_by_state_2020 = df_by_state_2020.rename(columns={'Civil_Name':'Victims_Count'},inplace=False)\n",
        "df_by_state_2020.head()"
      ]
    },
    {
      "cell_type": "code",
      "execution_count": null,
      "metadata": {
        "id": "m8ZW5a0-FxQC"
      },
      "outputs": [],
      "source": [
        "df_by_state_2020.plot.scatter(x='Median_household_ Income', y='Victims_Count')\n",
        "plt.title(\"Distribución de estados por conteo de víctimas e ingreso medio por hogar\" , size = 18 )"
      ]
    },
    {
      "cell_type": "markdown",
      "source": [
        "Al contraro de lo que pudiera suponerse, al menos en 2020, los estados con menor ingreso medio por hogar no fueron, generalmente los que mas muertes de civiles por parte de la policía tuvieron. Solo hay un caso a analizar, que está entre USD 50K y USd 60K anuales y tiene más de 80 muertes en el año, además del caso que tiene 140 (CA), aunque está de la media hacia arriba en cuanto a ingreso medio."
      ],
      "metadata": {
        "id": "GRdZW4T3yPNv"
      }
    },
    {
      "cell_type": "markdown",
      "source": [
        "### 6) Bar Catplot de frecuencia de victimas con signos de enfermedad mental por género"
      ],
      "metadata": {
        "id": "3c85W6HqIX24"
      }
    },
    {
      "cell_type": "code",
      "source": [
        "#Comparación Razas vs Mental Illenes\n",
        "df_race_mental = df[['Race','Signs_of_mental_illness','Civil_Name']]\n",
        "plot_race_mental = df_race_mental.groupby(['Race','Signs_of_mental_illness'], as_index=False)['Civil_Name'].count()\n",
        "plot_race_mental = plot_race_mental.rename(columns={'Civil_Name': 'Frequency'})\n",
        "plot_race_mental.set_index('Race')\n",
        "plot_race_mental"
      ],
      "metadata": {
        "id": "x4r7OHJJ1Eh8"
      },
      "execution_count": null,
      "outputs": []
    },
    {
      "cell_type": "code",
      "source": [
        "sns.catplot(x=\"Race\", y=\"Frequency\", kind=\"bar\", hue=\"Signs_of_mental_illness\", data=plot_race_mental)\n",
        "plt.title(\"Presencia de enfermedad mental en civiles abatidos por la policía en USA, por raza, 2015-2020\" , size = 14 )"
      ],
      "metadata": {
        "id": "NycByHrcAWyV"
      },
      "execution_count": null,
      "outputs": []
    },
    {
      "cell_type": "markdown",
      "source": [
        "Comparando la cantidad de civiles muertos por raza y signo de enfermedad mental, podemos observar que la proporción de civiles con signos de enfermedad mental al momento de ser abatidos por la policía es mucho mas significativa para la raza blanca y asiática, con casi la mitad de civiles con dichas características."
      ],
      "metadata": {
        "id": "Sp8q4KJMFQwO"
      }
    },
    {
      "cell_type": "markdown",
      "metadata": {
        "id": "CLpqteHwD53T"
      },
      "source": [
        "# Análisis Multivariado"
      ]
    },
    {
      "cell_type": "code",
      "execution_count": null,
      "metadata": {
        "id": "5VqbMXGaD5Uw"
      },
      "outputs": [],
      "source": [
        "df_biv = df.copy()\n",
        "columns_drop = ['Manner_of_death', 'Civil_Name', 'Death_Date', 'City', 'longitude', 'latitude', 'is_geocoding_exact', 'Governor_Name', 'State_Name', 'state_initial']\n",
        "df_biv.drop(columns=columns_drop, axis=1, inplace=True)\n",
        "\n",
        "for col in ['Armed', 'Gender', 'Race', 'Signs_of_mental_illness', 'Flee', 'body_camera', 'Official_Disposition', 'Encounter_Type', 'Party']:\n",
        "    df[col] = df[col].astype('category')\n",
        "\n",
        "df_biv.info()"
      ]
    },
    {
      "cell_type": "code",
      "execution_count": null,
      "metadata": {
        "id": "fvrCJeFcLWwK"
      },
      "outputs": [],
      "source": [
        "for col in ['Armed', 'Gender', 'Race', 'Signs_of_mental_illness', 'Flee', 'body_camera', 'Official_Disposition', 'Encounter_Type', 'Party']:\n",
        "    df_biv[col] = df[col].cat.codes\n",
        "\n",
        "df_biv.head()"
      ]
    },
    {
      "cell_type": "code",
      "execution_count": null,
      "metadata": {
        "id": "ELPPBnHsLwbe"
      },
      "outputs": [],
      "source": [
        "plt.figure(figsize=(18, 7))\n",
        "sns.heatmap(df_biv.corr(), annot=True)\n",
        "plt.title( \"Mapa de correlación de variables\" , size = 18 ) "
      ]
    },
    {
      "cell_type": "markdown",
      "source": [
        "Analizando el heatmap de los datos, son de interés algunas correlaciones fuertes que son generadas por las situaciones económicas del estado. Entre los features de interés como la edad, raza, signos de problemas mentales, si estaba armado o el año en que murió, no visualizamos una relación fuerte entre las demás variables."
      ],
      "metadata": {
        "id": "Fk1qJuVylOfw"
      }
    },
    {
      "cell_type": "code",
      "execution_count": null,
      "metadata": {
        "id": "E3fs5FnnbGJ9"
      },
      "outputs": [],
      "source": [
        "#Análisis de Cantidad de muertes por millón por estado en relación con Nivel de pobreza  y educación por estado y partido político en 2020\n",
        "df_by_state = df[['Civil_Name','state_initial','Year','Median_household_ Income','Party','Poverty_Percent','Unemployment_Rate','GDP_Millions','GDP_PerCapita']]\n",
        "df_by_state_2020 = df_by_state[df_by_state.Year.isin([2020])]\n",
        "df_by_state_2020 = df_by_state_2020.groupby(['Year','Party','state_initial','Poverty_Percent','Unemployment_Rate','GDP_Millions','GDP_PerCapita']).agg({'Civil_Name':'count'}).reset_index()\n",
        "df_by_state_2020 = df_by_state_2020.rename(columns={'Civil_Name':'Victims_Count'},inplace=False)\n",
        "df_by_state_2020['Population'] = ((df_by_state_2020['GDP_Millions']*1000000)/df_by_state_2020['GDP_PerCapita'])\n",
        "df_by_state_2020['Population'] = (df_by_state_2020['Population'].round(0))\n",
        "df_by_state_2020['Victims_per_million'] = ((df_by_state_2020['Victims_Count'])/(df_by_state_2020['Population']/1000000)).round(2)\n",
        "df_by_state_2020_top10 = df_by_state_2020.nlargest(10,['Victims_per_million'])\n",
        "df_by_state_2020_top10"
      ]
    },
    {
      "cell_type": "code",
      "execution_count": null,
      "metadata": {
        "id": "Kn9LhV8X0Fof"
      },
      "outputs": [],
      "source": [
        "plt.figure(dpi = 60)\n",
        "sns.scatterplot(data=df_by_state_2020_top10, x='Unemployment_Rate', y='Poverty_Percent',hue='state_initial', size='Victims_per_million')\n",
        "plt.xlabel( \"Unemployment Rate\" , size = 12 ) \n",
        "plt.ylabel( \"Poverty Rate\" , size = 12 ) \n",
        "plt.legend(bbox_to_anchor=(1.02, 1), loc='upper left', borderaxespad=0)\n",
        "plt.title( \"Top 10 estados de USA con mayor cantidad de muertes civiles por millón de habitantes, comparado con ratio de probreza y desempleo, 2020\" , size = 18 ) "
      ]
    },
    {
      "cell_type": "markdown",
      "source": [
        "### Mapa de calor de victimas por millón con signos de problemas mentales en 2020"
      ],
      "metadata": {
        "id": "8XAm2lB2KkYp"
      }
    },
    {
      "cell_type": "code",
      "source": [
        "# Preparar datos para generar el análisis de victimas con problemas mentales por millón\n",
        "df_mental_state = df[['Civil_Name','state_initial','Year','State_Name','Signs_of_mental_illness','GDP_PerCapita','GDP_Millions','longitude','latitude']]\n",
        "df_mental_state_2020 = df_mental_state[df_mental_state.Year.isin([2020])]\n",
        "df_mental_state_2020 = df_mental_state_2020.groupby(['Year','state_initial','Signs_of_mental_illness','State_Name','GDP_PerCapita','GDP_Millions','longitude','latitude']).agg({'Civil_Name':'count'}).reset_index()\n",
        "mental_state_2020_true = df_mental_state_2020[df_mental_state_2020[\"Signs_of_mental_illness\"] == True]\n",
        "mental_state_2020_true = mental_state_2020_true.rename(columns={'Civil_Name':'Victims_Count'},inplace=False)\n",
        "mental_state_2020_true['Population'] = ((mental_state_2020_true['GDP_Millions']*1000000)/mental_state_2020_true['GDP_PerCapita'])\n",
        "mental_state_2020_true['Population'] = (mental_state_2020_true['Population'].round(0))\n",
        "mental_state_2020_true['Victims_with_mental_illness_per_million'] = ((mental_state_2020_true['Victims_Count'])/(mental_state_2020_true['Population']/1000000)).round(2)\n",
        "mental_state_2020_true.head()"
      ],
      "metadata": {
        "id": "wVeA1qvIkQjI"
      },
      "execution_count": null,
      "outputs": []
    },
    {
      "cell_type": "code",
      "source": [
        "pip install folium"
      ],
      "metadata": {
        "id": "9TqtFdW5RQs9"
      },
      "execution_count": null,
      "outputs": []
    },
    {
      "cell_type": "code",
      "source": [
        "import folium  #needed for interactive map\n",
        "from folium.plugins import HeatMap"
      ],
      "metadata": {
        "id": "uk1zfV64RT9r"
      },
      "execution_count": null,
      "outputs": []
    },
    {
      "cell_type": "code",
      "source": [
        "max_amount = float(mental_state_2020_true['Victims_with_mental_illness_per_million'].max())\n",
        "\n",
        "folium_hmap = folium.Map(location=[45, -100],\n",
        "                        zoom_start=4,\n",
        "                        tiles=\"OpenStreetMap\")\n",
        "\n",
        "title_html = '''\n",
        "             <h3 align=\"center\" style=\"font-size:20px\"><b>Civiles con enfermedad mental muertos por fuerzas policiales por millón de habitantes en USA, por estado, 2020</b></h3>\n",
        "             '''\n",
        "folium_hmap.get_root().html.add_child(folium.Element(title_html))\n",
        "\n",
        "hm_wide = HeatMap( list(zip(mental_state_2020_true['latitude']/1000, mental_state_2020_true['longitude']/1000, mental_state_2020_true['Victims_with_mental_illness_per_million'].astype(int))),\n",
        "                   min_opacity=0.8,\n",
        "                   max_val=max_amount,\n",
        "                   radius=10, blur=6, \n",
        "                   max_zoom=15, \n",
        "                 )\n",
        "\n",
        "folium_hmap.add_child(hm_wide)"
      ],
      "metadata": {
        "id": "y0EEKXNxRmca"
      },
      "execution_count": null,
      "outputs": []
    },
    {
      "cell_type": "markdown",
      "source": [
        "Observamos que hay un marcado contraste desde el noroeste hasta el sureste del país en comparación con el resto. Creemos que esto se debe principalmente por que la densidad de la población se concentra mayormente en esta parte del país según datos demográficos (https://datosmacro.expansion.com/demografia/poblacion/usa-estados), además de que es la zona que más aporta al pib (https://es.statista.com/estadisticas/598677/producto-interior-bruto-pib-en-los-ee-uu-por-estado-en/)."
      ],
      "metadata": {
        "id": "DTqyRn8CK4mz"
      }
    },
    {
      "cell_type": "markdown",
      "source": [
        "# Modelos para predecir si la victima sufría algún problema mental"
      ],
      "metadata": {
        "id": "MrdxjAhO4LYM"
      }
    },
    {
      "cell_type": "code",
      "source": [
        "# Importar librerías para los modelos a utilizar\n",
        "from sklearn.tree import DecisionTreeClassifier\n",
        "from sklearn.model_selection import train_test_split\n",
        "from sklearn.preprocessing import StandardScaler\n",
        "import xgboost as xgb\n",
        "\n",
        "# Métricas para validación de modelos\n",
        "from sklearn.metrics import confusion_matrix\n",
        "from sklearn.metrics import classification_report\n",
        "from sklearn.metrics import roc_curve, roc_auc_score\n",
        "from sklearn.metrics import accuracy_score\n",
        "\n",
        "# Hypertunning\n",
        "from sklearn.experimental import enable_halving_search_cv\n",
        "from sklearn.model_selection import HalvingRandomSearchCV"
      ],
      "metadata": {
        "id": "1Re0wJMAaXVC"
      },
      "execution_count": null,
      "outputs": []
    },
    {
      "cell_type": "markdown",
      "source": [
        "## Algoritmo: Decision Tree"
      ],
      "metadata": {
        "id": "nrvp-ru3tEZk"
      }
    },
    {
      "cell_type": "code",
      "source": [
        "# Eliminar columnas que no son necesarias\n",
        "columns_to_drop = ['Civil_Name', 'Death_Date', 'City', 'longitude', 'latitude', 'is_geocoding_exact', 'State_Name', 'state_initial', 'Governor_Name', 'Signs_of_mental_illness']\n",
        "df_clean = df.drop(axis=1, columns=columns_to_drop)\n",
        "\n",
        "# Preparar datos para el modelo\n",
        "df_dummy = pd.get_dummies(df_clean, drop_first=True)\n",
        "df_dummy.info()"
      ],
      "metadata": {
        "colab": {
          "base_uri": "https://localhost:8080/"
        },
        "id": "ShJFSIq44WdD",
        "outputId": "25282a90-2020-47b6-e311-1a1e9c2abc10"
      },
      "execution_count": null,
      "outputs": [
        {
          "output_type": "stream",
          "name": "stdout",
          "text": [
            "<class 'pandas.core.frame.DataFrame'>\n",
            "Int64Index: 5793 entries, 0 to 5792\n",
            "Data columns (total 60 columns):\n",
            " #   Column                                           Non-Null Count  Dtype  \n",
            "---  ------                                           --------------  -----  \n",
            " 0   Age                                              5793 non-null   int64  \n",
            " 1   State_ID                                         5793 non-null   int64  \n",
            " 2   body_camera                                      5793 non-null   bool   \n",
            " 3   Year                                             5793 non-null   int64  \n",
            " 4   GDP_Millions                                     5793 non-null   int64  \n",
            " 5   GDP_PerCapita                                    5793 non-null   int64  \n",
            " 6   Unemployment_Rate                                5793 non-null   float64\n",
            " 7   Poverty_Percent                                  5793 non-null   float64\n",
            " 8   Median_household_ Income                         5793 non-null   int64  \n",
            " 9   Month                                            5793 non-null   int64  \n",
            " 10  Manner_of_death_shot and Tasered                 5793 non-null   uint8  \n",
            " 11  Armed_BB Gun                                     5793 non-null   uint8  \n",
            " 12  Armed_Baseball bat                               5793 non-null   uint8  \n",
            " 13  Armed_Bottle                                     5793 non-null   uint8  \n",
            " 14  Armed_Chain                                      5793 non-null   uint8  \n",
            " 15  Armed_Chain Saw                                  5793 non-null   uint8  \n",
            " 16  Armed_Chair                                      5793 non-null   uint8  \n",
            " 17  Armed_Crossbow                                   5793 non-null   uint8  \n",
            " 18  Armed_Crowbar                                    5793 non-null   uint8  \n",
            " 19  Armed_Cutter                                     5793 non-null   uint8  \n",
            " 20  Armed_Glass                                      5793 non-null   uint8  \n",
            " 21  Armed_Gun                                        5793 non-null   uint8  \n",
            " 22  Armed_Hammer                                     5793 non-null   uint8  \n",
            " 23  Armed_Knife                                      5793 non-null   uint8  \n",
            " 24  Armed_Machete                                    5793 non-null   uint8  \n",
            " 25  Armed_Metal Pipe                                 5793 non-null   uint8  \n",
            " 26  Armed_Others                                     5793 non-null   uint8  \n",
            " 27  Armed_Razor                                      5793 non-null   uint8  \n",
            " 28  Armed_Rock                                       5793 non-null   uint8  \n",
            " 29  Armed_Scissors                                   5793 non-null   uint8  \n",
            " 30  Armed_Screwdriver                                5793 non-null   uint8  \n",
            " 31  Armed_Shovel                                     5793 non-null   uint8  \n",
            " 32  Armed_Sword                                      5793 non-null   uint8  \n",
            " 33  Armed_Taser                                      5793 non-null   uint8  \n",
            " 34  Armed_Toy Weapon                                 5793 non-null   uint8  \n",
            " 35  Armed_Unarmed                                    5793 non-null   uint8  \n",
            " 36  Armed_Unknown                                    5793 non-null   uint8  \n",
            " 37  Armed_Vehicle                                    5793 non-null   uint8  \n",
            " 38  Gender_M                                         5793 non-null   uint8  \n",
            " 39  Race_B                                           5793 non-null   uint8  \n",
            " 40  Race_H                                           5793 non-null   uint8  \n",
            " 41  Race_N                                           5793 non-null   uint8  \n",
            " 42  Race_O                                           5793 non-null   uint8  \n",
            " 43  Race_W                                           5793 non-null   uint8  \n",
            " 44  Flee_Foot                                        5793 non-null   uint8  \n",
            " 45  Flee_Not fleeing                                 5793 non-null   uint8  \n",
            " 46  Flee_Other                                       5793 non-null   uint8  \n",
            " 47  Flee_undetermined                                5793 non-null   uint8  \n",
            " 48  Official_Disposition_Charged - Pending Sentence  5793 non-null   uint8  \n",
            " 49  Official_Disposition_Charges Nullified           5793 non-null   uint8  \n",
            " 50  Official_Disposition_Convicted                   5793 non-null   uint8  \n",
            " 51  Official_Disposition_No Known Charges            5793 non-null   uint8  \n",
            " 52  Encounter_Type_Mental Health                     5793 non-null   uint8  \n",
            " 53  Encounter_Type_Other Crimes Against People       5793 non-null   uint8  \n",
            " 54  Encounter_Type_Other Non-Violent Offense         5793 non-null   uint8  \n",
            " 55  Encounter_Type_Person with Weapon                5793 non-null   uint8  \n",
            " 56  Encounter_Type_Traffic Stop                      5793 non-null   uint8  \n",
            " 57  Encounter_Type_Violent Crime                     5793 non-null   uint8  \n",
            " 58  Party_Independent                                5793 non-null   uint8  \n",
            " 59  Party_Republican                                 5793 non-null   uint8  \n",
            "dtypes: bool(1), float64(2), int64(7), uint8(50)\n",
            "memory usage: 741.1 KB\n"
          ]
        }
      ]
    },
    {
      "cell_type": "code",
      "source": [
        "# Normalizar data\n",
        "X = df_dummy.values\n",
        "X = np.nan_to_num(X) # Remplazar nan por valores numericos\n",
        "X_f = StandardScaler().fit_transform(X)\n",
        "X_f"
      ],
      "metadata": {
        "colab": {
          "base_uri": "https://localhost:8080/"
        },
        "id": "3WK94P2zr0Vz",
        "outputId": "6fa32fee-5368-4ca3-d2de-40c05846e016"
      },
      "execution_count": null,
      "outputs": [
        {
          "output_type": "execute_result",
          "data": {
            "text/plain": [
              "array([[ 0.75601729,  0.92281476, -0.38623406, ..., -0.5969563 ,\n",
              "        -0.06714469, -1.25258048],\n",
              "       [ 1.21661656,  1.54722239, -0.38623406, ..., -0.5969563 ,\n",
              "        -0.06714469, -1.25258048],\n",
              "       [-1.08637979, -0.38844126, -0.38623406, ..., -0.5969563 ,\n",
              "        -0.06714469,  0.79835189],\n",
              "       ...,\n",
              "       [-1.23991288, -0.63820431, -0.38623406, ...,  1.67516449,\n",
              "        -0.06714469,  0.79835189],\n",
              "       [ 1.98428201, -0.51332278, -0.38623406, ..., -0.5969563 ,\n",
              "        -0.06714469,  0.79835189],\n",
              "       [ 0.14188493,  1.29745934, -0.38623406, ...,  1.67516449,\n",
              "        -0.06714469,  0.79835189]])"
            ]
          },
          "metadata": {},
          "execution_count": 25
        }
      ]
    },
    {
      "cell_type": "code",
      "source": [
        "y = df.Signs_of_mental_illness\n",
        "y=y.astype('int')\n",
        "y"
      ],
      "metadata": {
        "colab": {
          "base_uri": "https://localhost:8080/"
        },
        "id": "Uzj7IcsJqh_f",
        "outputId": "01e67535-f4df-42f7-8e03-f94b981b8ce1"
      },
      "execution_count": null,
      "outputs": [
        {
          "output_type": "execute_result",
          "data": {
            "text/plain": [
              "0       0\n",
              "1       1\n",
              "2       0\n",
              "3       0\n",
              "4       1\n",
              "       ..\n",
              "5788    0\n",
              "5789    1\n",
              "5790    0\n",
              "5791    0\n",
              "5792    1\n",
              "Name: Signs_of_mental_illness, Length: 5793, dtype: int64"
            ]
          },
          "metadata": {},
          "execution_count": 26
        }
      ]
    },
    {
      "cell_type": "code",
      "source": [
        "# Train Test\n",
        "X_train, X_test, y_train, y_test = train_test_split(X_f, y, test_size= 0.3, random_state=42)\n",
        "\n",
        "# Crear el modelo\n",
        "tree = DecisionTreeClassifier(max_depth=20, random_state=42, criterion='gini')\n",
        "\n",
        "# Entrenar el modelo\n",
        "tree.fit(X_train, y_train)\n",
        "\n",
        "# Generar predicciones\n",
        "y_pred = tree.predict(X_test)"
      ],
      "metadata": {
        "id": "3wAR_pZAqtwB"
      },
      "execution_count": null,
      "outputs": []
    },
    {
      "cell_type": "markdown",
      "source": [
        "#### Validación del modelo\n"
      ],
      "metadata": {
        "id": "jHwn6zLtzmUt"
      }
    },
    {
      "cell_type": "markdown",
      "source": [
        "1. Matriz de confusión"
      ],
      "metadata": {
        "id": "yEqEcQIwzyXx"
      }
    },
    {
      "cell_type": "code",
      "source": [
        "cm = confusion_matrix(y_test, y_pred)\n",
        "cm"
      ],
      "metadata": {
        "colab": {
          "base_uri": "https://localhost:8080/"
        },
        "id": "bgo3ATQusJao",
        "outputId": "6b7d4a27-f61c-42f7-8ffe-680256a86ede"
      },
      "execution_count": null,
      "outputs": [
        {
          "output_type": "execute_result",
          "data": {
            "text/plain": [
              "array([[1079,  237],\n",
              "       [ 292,  130]])"
            ]
          },
          "metadata": {},
          "execution_count": 28
        }
      ]
    },
    {
      "cell_type": "code",
      "source": [
        "sns.heatmap(cm, center=True)"
      ],
      "metadata": {
        "colab": {
          "base_uri": "https://localhost:8080/",
          "height": 282
        },
        "id": "-UnZjs-hsOS_",
        "outputId": "fc087bc2-072b-45fa-9f7e-f0b8e82c4206"
      },
      "execution_count": null,
      "outputs": [
        {
          "output_type": "execute_result",
          "data": {
            "text/plain": [
              "<matplotlib.axes._subplots.AxesSubplot at 0x7ff7d312c410>"
            ]
          },
          "metadata": {},
          "execution_count": 29
        },
        {
          "output_type": "display_data",
          "data": {
            "text/plain": [
              "<Figure size 432x288 with 2 Axes>"
            ],
            "image/png": "[encoded data removed]"
          },
          "metadata": {
            "needs_background": "light"
          }
        }
      ]
    },
    {
      "cell_type": "markdown",
      "source": [
        "2. Reporte de clasificación"
      ],
      "metadata": {
        "id": "1YscSyNez3-U"
      }
    },
    {
      "cell_type": "code",
      "source": [
        "tp = cm[0][0] #verdadero positivo\n",
        "fp = cm[0][1] #falso positivo\n",
        "fn = cm[1][0] #falso negativo\n",
        "tn = cm[1][1] #verdadero negativo\n",
        "\n",
        "acc = (tp + tn) / (tp+tn+fp+fn)\n",
        "print('Accuracy:', acc)\n",
        "\n",
        "prec = tp / (tp+fp)\n",
        "print('Precisión:', prec)\n",
        "\n",
        "sensib = tp / (tp+fn)\n",
        "print('Sensibilidad:', sensib)\n",
        "\n",
        "espec = tn / (tn+fp)\n",
        "print('Especificidad:', espec)\n",
        "\n",
        "f1score = 2*((prec*sensib)/(prec+sensib))\n",
        "print('F1 score:', f1score)"
      ],
      "metadata": {
        "colab": {
          "base_uri": "https://localhost:8080/"
        },
        "id": "n9Al4tA7QrMV",
        "outputId": "adb3a500-246f-4992-9e63-d3fafba611d0"
      },
      "execution_count": null,
      "outputs": [
        {
          "output_type": "stream",
          "name": "stdout",
          "text": [
            "Accuracy: 0.6956271576524741\n",
            "Precisión: 0.8199088145896657\n",
            "Sensibilidad: 0.7870167760758571\n",
            "Especificidad: 0.3542234332425068\n",
            "F1 score: 0.8031261630070713\n"
          ]
        }
      ]
    },
    {
      "cell_type": "code",
      "source": [
        "print(classification_report(y_pred=y_pred, y_true=y_test))"
      ],
      "metadata": {
        "colab": {
          "base_uri": "https://localhost:8080/"
        },
        "id": "OueRWmDvmEBe",
        "outputId": "a26c7aad-57d6-4a23-d158-e6e7efd9065d"
      },
      "execution_count": null,
      "outputs": [
        {
          "output_type": "stream",
          "name": "stdout",
          "text": [
            "              precision    recall  f1-score   support\n",
            "\n",
            "           0       0.79      0.82      0.80      1316\n",
            "           1       0.35      0.31      0.33       422\n",
            "\n",
            "    accuracy                           0.70      1738\n",
            "   macro avg       0.57      0.56      0.57      1738\n",
            "weighted avg       0.68      0.70      0.69      1738\n",
            "\n"
          ]
        }
      ]
    },
    {
      "cell_type": "markdown",
      "source": [
        "Como puede observarse, el modelo presenta una significativamente mayor precisión para detectar casos “False” en cuanto a la variable de enfermedad mental de las victimas. Partiendo de métricas de infalibilidad (F1) de 0.80 para sin enfermedad mental y 0.35 con enfermedad mental. Las métricas de precisión y recall, en el mismo sentido, otorgan mayor predictibilidad cuando la variable en cuestión es false. De hecho, se dan mejores resultados para “false” partiendo de un caso real (0.81) que deduciendo a partir de las variables independientes (0.79). Para casos “true”, se da a la inversa.\n",
        "\n",
        "En cuanto a accuracy, la precisión del modelo es del 70%.\n",
        "\n",
        "Esto pudiera significar que el modelo puede ser efectivo para determinar, una vez que haya fallecido un civil, si no se conoce el dato concreto, las probabilidades de que no haya sufrido una enfermedad mental en el momento de ser abatido por la policía, pero no para poder predecir precondiciones de enfermedades mentales a los efectos de diseñar políticas públicas."
      ],
      "metadata": {
        "id": "oI1lgH5byb8Y"
      }
    },
    {
      "cell_type": "markdown",
      "source": [
        "3. Curva ROC"
      ],
      "metadata": {
        "id": "i7P5HIbCz-SN"
      }
    },
    {
      "cell_type": "code",
      "source": [
        "y_score1 = tree.predict_proba(X_test)[:,1]\n",
        "y_score1"
      ],
      "metadata": {
        "colab": {
          "base_uri": "https://localhost:8080/"
        },
        "id": "aR5bHGaA0FIW",
        "outputId": "7a7627aa-23c7-4e3b-d945-32bf4346b6bc"
      },
      "execution_count": null,
      "outputs": [
        {
          "output_type": "execute_result",
          "data": {
            "text/plain": [
              "array([0.        , 0.00980392, 0.        , ..., 0.        , 0.        ,\n",
              "       0.        ])"
            ]
          },
          "metadata": {},
          "execution_count": 32
        }
      ]
    },
    {
      "cell_type": "code",
      "source": [
        "# Calculo de tasas \n",
        "false_positive_rate1, true_positive_rate1, threshold1 = roc_curve(y_test, y_score1)\n",
        "print('roc_auc_score for DecisionTree: ', roc_auc_score(y_test, y_score1))"
      ],
      "metadata": {
        "colab": {
          "base_uri": "https://localhost:8080/"
        },
        "id": "Fvxo4c5O0Tc0",
        "outputId": "b4c07c13-e499-4e84-8157-a2d470a60b2b"
      },
      "execution_count": null,
      "outputs": [
        {
          "output_type": "stream",
          "name": "stdout",
          "text": [
            "roc_auc_score for DecisionTree:  0.5456692332070472\n"
          ]
        }
      ]
    },
    {
      "cell_type": "code",
      "source": [
        "plt.subplots(1, figsize=(8,6))\n",
        "plt.title('Receiver Operating Characteristic - DecisionTree')\n",
        "plt.plot(false_positive_rate1, true_positive_rate1)\n",
        "plt.plot([0, 1], ls=\"--\")\n",
        "plt.plot([0, 0], [1, 0] , c=\".7\"), plt.plot([1, 1] , c=\".7\")\n",
        "plt.ylabel('True Positive Rate')\n",
        "plt.xlabel('False Positive Rate')\n",
        "plt.show()"
      ],
      "metadata": {
        "colab": {
          "base_uri": "https://localhost:8080/",
          "height": 404
        },
        "id": "psrBi6sT0fpa",
        "outputId": "f057bcb6-3718-4fb7-ebfd-ff8f22df26d0"
      },
      "execution_count": null,
      "outputs": [
        {
          "output_type": "display_data",
          "data": {
            "text/plain": [
              "<Figure size 576x432 with 1 Axes>"
            ],
            "image/png": "[encoded data removed]"
          },
          "metadata": {
            "needs_background": "light"
          }
        }
      ]
    },
    {
      "cell_type": "markdown",
      "source": [
        "EL cálculo del AUC y la curva de ROC indican que el modelo tiene un 55% de probabilidad de discernir entre observaciones con signos de enfermedad mental y sin signos de enfermedad mental."
      ],
      "metadata": {
        "id": "DA-EdnrRpKAh"
      }
    },
    {
      "cell_type": "markdown",
      "source": [
        "4. Detectar Variables Principales"
      ],
      "metadata": {
        "id": "6yV3Z-ZaglSC"
      }
    },
    {
      "cell_type": "code",
      "source": [
        "df_feature_imp = pd.DataFrame(tree.feature_importances_, index=df_dummy.columns)\n",
        "df_feature_imp.sort_values(by=0, ascending=False)[:10]"
      ],
      "metadata": {
        "colab": {
          "base_uri": "https://localhost:8080/",
          "height": 363
        },
        "id": "H6Aw4RvigjYQ",
        "outputId": "756400c3-517d-4b9d-86b9-cdab043d9fd5"
      },
      "execution_count": null,
      "outputs": [
        {
          "output_type": "execute_result",
          "data": {
            "text/plain": [
              "                                 0\n",
              "Age                       0.155768\n",
              "Month                     0.097832\n",
              "Year                      0.086504\n",
              "Unemployment_Rate         0.065665\n",
              "GDP_Millions              0.065582\n",
              "State_ID                  0.053787\n",
              "Median_household_ Income  0.053367\n",
              "Flee_Not fleeing          0.053145\n",
              "Poverty_Percent           0.052790\n",
              "GDP_PerCapita             0.048061"
            ],
            "text/html": [
              "\n",
              "  <div id=\"df-7d9baebb-619b-41fa-9182-7aa370200d85\">\n",
              "    <div class=\"colab-df-container\">\n",
              "      <div>\n",
              "<style scoped>\n",
              "    .dataframe tbody tr th:only-of-type {\n",
              "        vertical-align: middle;\n",
              "    }\n",
              "\n",
              "    .dataframe tbody tr th {\n",
              "        vertical-align: top;\n",
              "    }\n",
              "\n",
              "    .dataframe thead th {\n",
              "        text-align: right;\n",
              "    }\n",
              "</style>\n",
              "<table border=\"1\" class=\"dataframe\">\n",
              "  <thead>\n",
              "    <tr style=\"text-align: right;\">\n",
              "      <th></th>\n",
              "      <th>0</th>\n",
              "    </tr>\n",
              "  </thead>\n",
              "  <tbody>\n",
              "    <tr>\n",
              "      <th>Age</th>\n",
              "      <td>0.155768</td>\n",
              "    </tr>\n",
              "    <tr>\n",
              "      <th>Month</th>\n",
              "      <td>0.097832</td>\n",
              "    </tr>\n",
              "    <tr>\n",
              "      <th>Year</th>\n",
              "      <td>0.086504</td>\n",
              "    </tr>\n",
              "    <tr>\n",
              "      <th>Unemployment_Rate</th>\n",
              "      <td>0.065665</td>\n",
              "    </tr>\n",
              "    <tr>\n",
              "      <th>GDP_Millions</th>\n",
              "      <td>0.065582</td>\n",
              "    </tr>\n",
              "    <tr>\n",
              "      <th>State_ID</th>\n",
              "      <td>0.053787</td>\n",
              "    </tr>\n",
              "    <tr>\n",
              "      <th>Median_household_ Income</th>\n",
              "      <td>0.053367</td>\n",
              "    </tr>\n",
              "    <tr>\n",
              "      <th>Flee_Not fleeing</th>\n",
              "      <td>0.053145</td>\n",
              "    </tr>\n",
              "    <tr>\n",
              "      <th>Poverty_Percent</th>\n",
              "      <td>0.052790</td>\n",
              "    </tr>\n",
              "    <tr>\n",
              "      <th>GDP_PerCapita</th>\n",
              "      <td>0.048061</td>\n",
              "    </tr>\n",
              "  </tbody>\n",
              "</table>\n",
              "</div>\n",
              "      <button class=\"colab-df-convert\" onclick=\"convertToInteractive('df-7d9baebb-619b-41fa-9182-7aa370200d85')\"\n",
              "              title=\"Convert this dataframe to an interactive table.\"\n",
              "              style=\"display:none;\">\n",
              "        \n",
              "  <svg xmlns=\"http://www.w3.org/2000/svg\" height=\"24px\"viewBox=\"0 0 24 24\"\n",
              "       width=\"24px\">\n",
              "    <path d=\"M0 0h24v24H0V0z\" fill=\"none\"/>\n",
              "    <path d=\"M18.56 5.44l.94 2.06.94-2.06 2.06-.94-2.06-.94-.94-2.06-.94 2.06-2.06.94zm-11 1L8.5 8.5l.94-2.06 2.06-.94-2.06-.94L8.5 2.5l-.94 2.06-2.06.94zm10 10l.94 2.06.94-2.06 2.06-.94-2.06-.94-.94-2.06-.94 2.06-2.06.94z\"/><path d=\"M17.41 7.96l-1.37-1.37c-.4-.4-.92-.59-1.43-.59-.52 0-1.04.2-1.43.59L10.3 9.45l-7.72 7.72c-.78.78-.78 2.05 0 2.83L4 21.41c.39.39.9.59 1.41.59.51 0 1.02-.2 1.41-.59l7.78-7.78 2.81-2.81c.8-.78.8-2.07 0-2.86zM5.41 20L4 18.59l7.72-7.72 1.47 1.35L5.41 20z\"/>\n",
              "  </svg>\n",
              "      </button>\n",
              "      \n",
              "  <style>\n",
              "    .colab-df-container {\n",
              "      display:flex;\n",
              "      flex-wrap:wrap;\n",
              "      gap: 12px;\n",
              "    }\n",
              "\n",
              "    .colab-df-convert {\n",
              "      background-color: #E8F0FE;\n",
              "      border: none;\n",
              "      border-radius: 50%;\n",
              "      cursor: pointer;\n",
              "      display: none;\n",
              "      fill: #1967D2;\n",
              "      height: 32px;\n",
              "      padding: 0 0 0 0;\n",
              "      width: 32px;\n",
              "    }\n",
              "\n",
              "    .colab-df-convert:hover {\n",
              "      background-color: #E2EBFA;\n",
              "      box-shadow: 0px 1px 2px rgba(60, 64, 67, 0.3), 0px 1px 3px 1px rgba(60, 64, 67, 0.15);\n",
              "      fill: #174EA6;\n",
              "    }\n",
              "\n",
              "    [theme=dark] .colab-df-convert {\n",
              "      background-color: #3B4455;\n",
              "      fill: #D2E3FC;\n",
              "    }\n",
              "\n",
              "    [theme=dark] .colab-df-convert:hover {\n",
              "      background-color: #434B5C;\n",
              "      box-shadow: 0px 1px 3px 1px rgba(0, 0, 0, 0.15);\n",
              "      filter: drop-shadow(0px 1px 2px rgba(0, 0, 0, 0.3));\n",
              "      fill: #FFFFFF;\n",
              "    }\n",
              "  </style>\n",
              "\n",
              "      <script>\n",
              "        const buttonEl =\n",
              "          document.querySelector('#df-7d9baebb-619b-41fa-9182-7aa370200d85 button.colab-df-convert');\n",
              "        buttonEl.style.display =\n",
              "          google.colab.kernel.accessAllowed ? 'block' : 'none';\n",
              "\n",
              "        async function convertToInteractive(key) {\n",
              "          const element = document.querySelector('#df-7d9baebb-619b-41fa-9182-7aa370200d85');\n",
              "          const dataTable =\n",
              "            await google.colab.kernel.invokeFunction('convertToInteractive',\n",
              "                                                     [key], {});\n",
              "          if (!dataTable) return;\n",
              "\n",
              "          const docLinkHtml = 'Like what you see? Visit the ' +\n",
              "            '<a target=\"_blank\" href=https://colab.research.google.com/notebooks/data_table.ipynb>data table notebook</a>'\n",
              "            + ' to learn more about interactive tables.';\n",
              "          element.innerHTML = '';\n",
              "          dataTable['output_type'] = 'display_data';\n",
              "          await google.colab.output.renderOutput(dataTable, element);\n",
              "          const docLink = document.createElement('div');\n",
              "          docLink.innerHTML = docLinkHtml;\n",
              "          element.appendChild(docLink);\n",
              "        }\n",
              "      </script>\n",
              "    </div>\n",
              "  </div>\n",
              "  "
            ]
          },
          "metadata": {},
          "execution_count": 35
        }
      ]
    },
    {
      "cell_type": "code",
      "source": [
        "columns_model = df_feature_imp.sort_values(by=0, ascending=False)[:10].index\n",
        "columns_model"
      ],
      "metadata": {
        "colab": {
          "base_uri": "https://localhost:8080/"
        },
        "id": "pMmpQ7zIhFOq",
        "outputId": "9ac53893-dde3-4924-fbbd-e561fb667514"
      },
      "execution_count": null,
      "outputs": [
        {
          "output_type": "execute_result",
          "data": {
            "text/plain": [
              "Index(['Age', 'Month', 'Year', 'Unemployment_Rate', 'GDP_Millions', 'State_ID',\n",
              "       'Median_household_ Income', 'Flee_Not fleeing', 'Poverty_Percent',\n",
              "       'GDP_PerCapita'],\n",
              "      dtype='object')"
            ]
          },
          "metadata": {},
          "execution_count": 36
        }
      ]
    },
    {
      "cell_type": "markdown",
      "source": [
        "### Ajuste de Modelo utilizando los 10 variables principales"
      ],
      "metadata": {
        "id": "0IeaDfTLigq4"
      }
    },
    {
      "cell_type": "code",
      "source": [
        "# Normalizar data\n",
        "X_2 = df_dummy[columns_model].values\n",
        "X_2 = np.nan_to_num(X_2) # Remplazar nan por valores numericos\n",
        "X_f_2 = StandardScaler().fit_transform(X_2)\n",
        "X_f_2"
      ],
      "metadata": {
        "colab": {
          "base_uri": "https://localhost:8080/"
        },
        "id": "gF6IFaLVgBi0",
        "outputId": "10f56bd7-620a-421d-ca89-5d484d87f43b"
      },
      "execution_count": null,
      "outputs": [
        {
          "output_type": "execute_result",
          "data": {
            "text/plain": [
              "array([[ 0.75601729, -1.55207465, -1.45309219, ...,  0.7804913 ,\n",
              "         0.89892309, -0.39761213],\n",
              "       [ 1.21661656, -1.55207465, -1.45309219, ...,  0.7804913 ,\n",
              "        -0.21740505,  0.07179105],\n",
              "       [-1.08637979, -1.55207465, -1.45309219, ...,  0.7804913 ,\n",
              "         0.06167699, -0.60063074],\n",
              "       ...,\n",
              "       [-1.23991288,  1.60634819,  1.45098669, ..., -1.28124427,\n",
              "        -1.26396268, -0.40233169],\n",
              "       [ 1.98428201,  1.60634819,  1.45098669, ..., -1.28124427,\n",
              "        -0.28717556,  0.27047695],\n",
              "       [ 0.14188493,  1.60634819,  1.45098669, ...,  0.7804913 ,\n",
              "         0.41052953,  0.73338106]])"
            ]
          },
          "metadata": {},
          "execution_count": 37
        }
      ]
    },
    {
      "cell_type": "code",
      "source": [
        "# Train Test\n",
        "X_train_2, X_test_2, y_train_2, y_test_2 = train_test_split(X_f_2, y, test_size= 0.3, random_state=42)\n",
        "# Crear el modelo\n",
        "tree_2 = DecisionTreeClassifier(max_depth=5, random_state=42, criterion='gini')\n",
        "# Entrenar el modelo\n",
        "tree_2.fit(X_train_2, y_train_2)\n",
        "# Generar predicciones\n",
        "y_pred_2 = tree_2.predict(X_test_2)"
      ],
      "metadata": {
        "id": "hXL3DFRIhoit"
      },
      "execution_count": null,
      "outputs": []
    },
    {
      "cell_type": "markdown",
      "source": [
        "#### Validación del modelo ajustado"
      ],
      "metadata": {
        "id": "vA3uEuEOiV5M"
      }
    },
    {
      "cell_type": "code",
      "source": [
        "cm_2 = confusion_matrix(y_test_2, y_pred_2)\n",
        "cm_2"
      ],
      "metadata": {
        "colab": {
          "base_uri": "https://localhost:8080/"
        },
        "id": "0xfFWfGCiCp-",
        "outputId": "de2e2ee2-fc37-4f43-d3f3-0d8cb231dc42"
      },
      "execution_count": null,
      "outputs": [
        {
          "output_type": "execute_result",
          "data": {
            "text/plain": [
              "array([[1308,    8],\n",
              "       [ 418,    4]])"
            ]
          },
          "metadata": {},
          "execution_count": 39
        }
      ]
    },
    {
      "cell_type": "code",
      "source": [
        "sns.heatmap(cm, center=True)"
      ],
      "metadata": {
        "colab": {
          "base_uri": "https://localhost:8080/",
          "height": 282
        },
        "id": "qDB16ZiWipvH",
        "outputId": "e6d5ddfc-f1b2-451b-a3d9-709b24705f0c"
      },
      "execution_count": null,
      "outputs": [
        {
          "output_type": "execute_result",
          "data": {
            "text/plain": [
              "<matplotlib.axes._subplots.AxesSubplot at 0x7ff7d2eba4d0>"
            ]
          },
          "metadata": {},
          "execution_count": 40
        },
        {
          "output_type": "display_data",
          "data": {
            "text/plain": [
              "<Figure size 432x288 with 2 Axes>"
            ],
            "image/png": "[encoded data removed]"
          },
          "metadata": {
            "needs_background": "light"
          }
        }
      ]
    },
    {
      "cell_type": "code",
      "source": [
        "tp = cm_2[0][0] #verdadero positivo\n",
        "fp = cm_2[0][1] #falso positivo\n",
        "fn = cm_2[1][0] #falso negativo\n",
        "tn = cm_2[1][1] #verdadero negativo\n",
        "\n",
        "acc = (tp + tn) / (tp+tn+fp+fn)\n",
        "print('Accuracy:', acc)\n",
        "\n",
        "prec = tp / (tp+fp)\n",
        "print('Precisión:', prec)\n",
        "\n",
        "sensib = tp / (tp+fn)\n",
        "print('Sensibilidad:', sensib)\n",
        "\n",
        "espec = tn / (tn+fp)\n",
        "print('Especificidad:', espec)\n",
        "\n",
        "f1score = 2*((prec*sensib)/(prec+sensib))\n",
        "print('F1 score:', f1score)"
      ],
      "metadata": {
        "colab": {
          "base_uri": "https://localhost:8080/"
        },
        "id": "XI1y-mu-ju1U",
        "outputId": "a3691d2e-d1a0-48a1-9eb6-1d0e11d883b1"
      },
      "execution_count": null,
      "outputs": [
        {
          "output_type": "stream",
          "name": "stdout",
          "text": [
            "Accuracy: 0.7548906789413119\n",
            "Precisión: 0.993920972644377\n",
            "Sensibilidad: 0.7578215527230591\n",
            "Especificidad: 0.3333333333333333\n",
            "F1 score: 0.8599605522682446\n"
          ]
        }
      ]
    },
    {
      "cell_type": "code",
      "source": [
        "print(classification_report(y_pred=y_pred_2, y_true=y_test_2))"
      ],
      "metadata": {
        "colab": {
          "base_uri": "https://localhost:8080/"
        },
        "id": "6diAmyjpjBL9",
        "outputId": "8035d3c0-7f61-4b05-c2e8-1a06be6bdd51"
      },
      "execution_count": null,
      "outputs": [
        {
          "output_type": "stream",
          "name": "stdout",
          "text": [
            "              precision    recall  f1-score   support\n",
            "\n",
            "           0       0.76      0.99      0.86      1316\n",
            "           1       0.33      0.01      0.02       422\n",
            "\n",
            "    accuracy                           0.75      1738\n",
            "   macro avg       0.55      0.50      0.44      1738\n",
            "weighted avg       0.65      0.75      0.66      1738\n",
            "\n"
          ]
        }
      ]
    },
    {
      "cell_type": "markdown",
      "source": [
        "Al ajustarse por las 10 principales variables en preponderancia, se puede obtener un accuracy mayor, del 77%, asi como también una mejoría en la precisión de F1 score para los casos negativos (0.87), sin embargo empeoran aún más la precisión para detectar casos verdaderos de presencia de enfermedad mental, reforzando lo mencionado anteriormente."
      ],
      "metadata": {
        "id": "XHubjt5RTwuH"
      }
    },
    {
      "cell_type": "code",
      "source": [
        "y_score2 = tree_2.predict_proba(X_test_2)[:,1]\n",
        "false_positive_rate2, true_positive_rate2, threshold2 = roc_curve(y_test_2, y_score2)\n",
        "print('roc_auc_score for DecisionTree: ', roc_auc_score(y_test_2, y_score2))\n",
        "\n",
        "plt.subplots(1, figsize=(8,6))\n",
        "plt.title('Receiver Operating Characteristic - DecisionTree')\n",
        "plt.plot(false_positive_rate2, true_positive_rate2)\n",
        "plt.plot([0, 1], ls=\"--\")\n",
        "plt.plot([0, 0], [1, 0] , c=\".7\"), plt.plot([1, 1] , c=\".7\")\n",
        "plt.ylabel('True Positive Rate')\n",
        "plt.xlabel('False Positive Rate')\n",
        "plt.show()"
      ],
      "metadata": {
        "colab": {
          "base_uri": "https://localhost:8080/",
          "height": 421
        },
        "id": "YPoNoIkvmuCd",
        "outputId": "14b587eb-840d-4c22-bb85-18cde74fa1e7"
      },
      "execution_count": null,
      "outputs": [
        {
          "output_type": "stream",
          "name": "stdout",
          "text": [
            "roc_auc_score for DecisionTree:  0.6436602371108775\n"
          ]
        },
        {
          "output_type": "display_data",
          "data": {
            "text/plain": [
              "<Figure size 576x432 with 1 Axes>"
            ],
            "image/png": "[encoded data removed]"
          },
          "metadata": {
            "needs_background": "light"
          }
        }
      ]
    },
    {
      "cell_type": "markdown",
      "source": [
        "En cuanto a la capacidad del modelo para discernir entre un falso de un verdadero respecto a la variable Signs_of_mental_illness, luego del ajuste, se obtiene una probabilidad del 67%."
      ],
      "metadata": {
        "id": "Pu0twCWO3smY"
      }
    },
    {
      "cell_type": "markdown",
      "source": [
        "## Algoritmo: XGBoost Classifier"
      ],
      "metadata": {
        "id": "3CjRSI7vZVFF"
      }
    },
    {
      "cell_type": "code",
      "source": [
        "df.Signs_of_mental_illness.value_counts()"
      ],
      "metadata": {
        "colab": {
          "base_uri": "https://localhost:8080/"
        },
        "id": "rNgXhdEmcKnS",
        "outputId": "a14bad87-dee2-48dc-ff0a-27e219032f65"
      },
      "execution_count": null,
      "outputs": [
        {
          "output_type": "execute_result",
          "data": {
            "text/plain": [
              "False    4416\n",
              "True     1377\n",
              "Name: Signs_of_mental_illness, dtype: int64"
            ]
          },
          "metadata": {},
          "execution_count": 44
        }
      ]
    },
    {
      "cell_type": "code",
      "source": [
        "# Existe un desbalanceo muy claro entre los valores positivos y negativos, por lo que hay que balancear los datos para mejorar las predicciones\n",
        "df_neg = df[df.Signs_of_mental_illness == False]\n",
        "print(f'Shape muestra de negativos: {df_neg.shape}')\n",
        "df_pos = df[df.Signs_of_mental_illness == True]\n",
        "df_pos = df_pos.sample(2*df_neg.shape[0], replace=True, ignore_index=True)\n",
        "df_neg = df_neg.sample(df_pos.shape[0], replace=True, ignore_index=True)\n",
        "print(f'Shape muestra nueva de positivos: {df_pos.shape}')\n",
        "print(f'Shape muestra nueva de negativos: {df_neg.shape}')\n",
        "\n",
        "# Concatenar los datos\n",
        "df_final = pd.concat([df_neg, df_pos])\n",
        "df_final.shape"
      ],
      "metadata": {
        "colab": {
          "base_uri": "https://localhost:8080/"
        },
        "id": "3IQQvjJ-ddvT",
        "outputId": "d71a8363-2f58-4c29-a287-3165db435b50"
      },
      "execution_count": null,
      "outputs": [
        {
          "output_type": "stream",
          "name": "stdout",
          "text": [
            "Shape muestra de negativos: (4416, 28)\n",
            "Shape muestra nueva de positivos: (8832, 28)\n",
            "Shape muestra nueva de negativos: (8832, 28)\n"
          ]
        },
        {
          "output_type": "execute_result",
          "data": {
            "text/plain": [
              "(17664, 28)"
            ]
          },
          "metadata": {},
          "execution_count": 45
        }
      ]
    },
    {
      "cell_type": "code",
      "source": [
        "# Eliminar columnas que no son necesarias\n",
        "columns_to_drop = ['Civil_Name', 'Death_Date', 'City', 'longitude', 'latitude', 'is_geocoding_exact', 'State_Name', 'state_initial', 'Governor_Name', 'Signs_of_mental_illness']\n",
        "df_clean_final = df_final.drop(axis=1, columns=columns_to_drop)\n",
        "\n",
        "# Preparar datos para el modelo\n",
        "df_dummy_final = pd.get_dummies(df_clean_final, drop_first=True)\n",
        "\n",
        "# Normalizar data\n",
        "X = df_dummy_final.values\n",
        "X = np.nan_to_num(X) # Remplazar nan por valores numericos\n",
        "X_f = StandardScaler().fit_transform(X)"
      ],
      "metadata": {
        "id": "r4OIcBfmfYYr"
      },
      "execution_count": null,
      "outputs": []
    },
    {
      "cell_type": "code",
      "source": [
        "# Separar datos en Train y Test\n",
        "X_train, X_test, y_train, y_test = train_test_split(X_f, df_final.Signs_of_mental_illness, test_size=.30, random_state=42)"
      ],
      "metadata": {
        "id": "-2GGU-ZxgIH1"
      },
      "execution_count": null,
      "outputs": []
    },
    {
      "cell_type": "code",
      "source": [
        "# Crear modelo y configurar para obtener los mejores parámetros\n",
        "xgb_testing = xgb.XGBClassifier(objective='binary:logistic', learning_rate=0.01, n_estimators=20, seed=42)\n",
        "\n",
        "params_grid = {\n",
        "        'min_child_weight': [1, 5, 10],\n",
        "        'gamma': [0.5, 1, 1.5, 2, 5],\n",
        "        'subsample': [0.6, 0.8, 1.0],\n",
        "        'colsample_bytree': [0.6, 0.8, 1.0],\n",
        "        'max_depth': [5,10,20,30],\n",
        "        'criterion':['entropy','gini'],\n",
        "        'splitter':['best','random']\n",
        "        }"
      ],
      "metadata": {
        "id": "_sJz-jqzMts1"
      },
      "execution_count": null,
      "outputs": []
    },
    {
      "cell_type": "code",
      "source": [
        "halving_cv = HalvingRandomSearchCV(xgb_testing, params_grid, scoring=\"accuracy\", factor=3)\n",
        "halving_cv.fit(X_train, y_train)\n",
        "\n",
        "print(\"Mejores parametros\", halving_cv.best_params_)\n",
        "print(\"Mejor CV score\", halving_cv.best_score_)\n",
        "print(f'Accuracy del modelo = {round(accuracy_score(y_test, halving_cv.predict(X_test)), 5)}')"
      ],
      "metadata": {
        "colab": {
          "base_uri": "https://localhost:8080/"
        },
        "id": "hRMc5DIXMvmg",
        "outputId": "1b2b3f48-4ea8-4848-965c-d8b24fed09cf"
      },
      "execution_count": null,
      "outputs": [
        {
          "output_type": "stream",
          "name": "stdout",
          "text": [
            "Mejores parametros {'subsample': 0.6, 'splitter': 'random', 'min_child_weight': 1, 'max_depth': 20, 'gamma': 2, 'criterion': 'entropy', 'colsample_bytree': 1.0}\n",
            "Mejor CV score 0.7676446156649841\n",
            "Accuracy del modelo = 0.89528\n"
          ]
        }
      ]
    },
    {
      "cell_type": "code",
      "source": [
        "# Crear modelo, entrenarlo y generar predicciones utilizando los mejores parámetros\n",
        "xgb = xgb.XGBClassifier(objective='binary:logistic', n_estimators=20, seed=42, learning_rate=0.01, subsample=0.8, splitter='best', min_child_weight=1, max_depth=30, gamma=0.5, criterion='gini', colsample_bytree=0.6)\n",
        "xgb.fit(X_train, y_train)\n",
        "y_pred_xgb = xgb.predict(X_test)"
      ],
      "metadata": {
        "id": "zWkcBCH_Zht6"
      },
      "execution_count": null,
      "outputs": []
    },
    {
      "cell_type": "code",
      "source": [
        "cm = confusion_matrix(y_test, y_pred_xgb)\n",
        "\n",
        "sns.heatmap(cm, center=True)\n",
        "\n",
        "tp = cm[0][0] #verdadero positivo\n",
        "fp = cm[0][1] #falso positivo\n",
        "fn = cm[1][0] #falso negativo\n",
        "tn = cm[1][1] #verdadero negativo\n",
        "\n",
        "acc = (tp + tn) / (tp+tn+fp+fn)\n",
        "print('Accuracy:', acc)\n",
        "\n",
        "prec = tp / (tp+fp)\n",
        "print('Precisión:', prec)\n",
        "\n",
        "sensib = tp / (tp+fn)\n",
        "print('Sensibilidad:', sensib)\n",
        "\n",
        "espec = tn / (tn+fp)\n",
        "print('Especificidad:', espec)\n",
        "\n",
        "f1score = 2*((prec*sensib)/(prec+sensib))\n",
        "print('F1 score:', f1score)"
      ],
      "metadata": {
        "colab": {
          "base_uri": "https://localhost:8080/",
          "height": 355
        },
        "id": "RznlIevVbUbb",
        "outputId": "6feca868-c018-4c87-c1e1-a02d535d0688"
      },
      "execution_count": null,
      "outputs": [
        {
          "output_type": "stream",
          "name": "stdout",
          "text": [
            "Accuracy: 0.9320754716981132\n",
            "Precisión: 0.9206529992406985\n",
            "Sensibilidad: 0.9413819875776398\n",
            "Especificidad: 0.9232745961820852\n",
            "F1 score: 0.9309021113243763\n"
          ]
        },
        {
          "output_type": "display_data",
          "data": {
            "text/plain": [
              "<Figure size 432x288 with 2 Axes>"
            ],
            "image/png": "[encoded data removed]"
          },
          "metadata": {
            "needs_background": "light"
          }
        }
      ]
    },
    {
      "cell_type": "markdown",
      "source": [
        "## Resumen modelos"
      ],
      "metadata": {
        "id": "8m7BjPTpuXXJ"
      }
    },
    {
      "cell_type": "markdown",
      "source": [
        "**Métricas DecisionTree:**\n",
        "- Accuracy: 0.7710\n",
        "- Precisión: 0.9734\n",
        "- Sensibilidad: 0.7792\n",
        "- Especificidad: 0.6277\n",
        "- F1 score: 0.8655\n",
        "\n",
        "**Métricas XGBoost con los mejores Hiperparámetros:**\n",
        "- Accuracy: 0.9226\n",
        "- Precisión: 0.9055\n",
        "- Sensibilidad: 0.9368\n",
        "- Especificidad: 0.9096\n",
        "- F1 score: 0.9208\n",
        "\n",
        "\n",
        "\n"
      ],
      "metadata": {
        "id": "3VbiLdYbuFdz"
      }
    }
  ],
  "metadata": {
    "colab": {
      "collapsed_sections": [
        "ycS7imv6SS7h",
        "cqpvvsiFuiO7",
        "CLpqteHwD53T",
        "nrvp-ru3tEZk"
      ],
      "name": "02 Proyecto-Muertes_por_Policias_USA.ipynb",
      "provenance": []
    },
    "kernelspec": {
      "display_name": "Python 3",
      "name": "python3"
    },
    "language_info": {
      "name": "python"
    }
  },
  "nbformat": 4,
  "nbformat_minor": 0
}